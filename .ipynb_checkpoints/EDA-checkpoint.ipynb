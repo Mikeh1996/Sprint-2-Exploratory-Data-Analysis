{
 "cells": [
  {
   "cell_type": "markdown",
   "id": "f1784031-73b2-4578-a186-326e1ea7cfc9",
   "metadata": {},
   "source": [
    "# Introduction\n",
    "This project marks my first hands-on experience with Exploratory Data Analysis (EDA), and represents a major step forward in both my Python learning journey and my path toward becoming a data scientist. For the first time, I will work through an entire data pipeline, reading in multiple datasets, performing data cleaning, and uncovering insights through visualizations.\n",
    "\n",
    "The focus of this project is on analyzing grocery shopping behavior using Instacart order data. I will practice essential EDA techniques such as identifying and removing duplicates, handling missing values, and ensuring data consistency. I also explored the importance of clean and well-structured data, as it directly impacts the accuracy and reliability of analysis.\n",
    "\n",
    "Additionally, this was my first experience creating plots and graphs to support my findings. Through histograms and bar charts, I visualized patterns in shopping times, order frequency, and popular products. These skills are essential for communicating data-driven insights effectively, and I look forward to building on them in future projects."
   ]
  },
  {
   "cell_type": "code",
   "execution_count": 20,
   "id": "fbf1adab",
   "metadata": {},
   "outputs": [],
   "source": [
    "import pandas as pd"
   ]
  },
  {
   "cell_type": "code",
   "execution_count": 21,
   "id": "ad36396d",
   "metadata": {},
   "outputs": [],
   "source": [
    "import numpy as np"
   ]
  },
  {
   "cell_type": "code",
   "execution_count": 22,
   "id": "d50b2d48",
   "metadata": {},
   "outputs": [],
   "source": [
    "import matplotlib.pyplot as plt"
   ]
  },
  {
   "cell_type": "code",
   "execution_count": 23,
   "id": "ad6a1efa",
   "metadata": {},
   "outputs": [],
   "source": [
    "instacart_ordersDF = pd.read_csv('instacart_orders.csv', sep=';')"
   ]
  },
  {
   "cell_type": "code",
   "execution_count": 24,
   "id": "5130e05e",
   "metadata": {},
   "outputs": [],
   "source": [
    "productsDF = pd.read_csv('products.csv', sep=';')"
   ]
  },
  {
   "cell_type": "code",
   "execution_count": 25,
   "id": "d8370c05",
   "metadata": {},
   "outputs": [],
   "source": [
    "aislesDF = pd.read_csv('aisles.csv', sep=';')"
   ]
  },
  {
   "cell_type": "code",
   "execution_count": 26,
   "id": "59e2090f",
   "metadata": {},
   "outputs": [],
   "source": [
    "departmentsDF = pd.read_csv('departments.csv', sep=';')"
   ]
  },
  {
   "cell_type": "code",
   "execution_count": 27,
   "id": "6fc81694",
   "metadata": {},
   "outputs": [],
   "source": [
    "order_productsDF = pd.read_csv('order_products.csv', sep=';')"
   ]
  },
  {
   "cell_type": "markdown",
   "id": "07357848-dc64-4156-9cc3-01ff4365226d",
   "metadata": {},
   "source": [
    "## Find and remove duplicate values (and describe why you make your choices)"
   ]
  },
  {
   "cell_type": "markdown",
   "id": "f179f0a9",
   "metadata": {},
   "source": [
    "### `orders` data frame"
   ]
  },
  {
   "cell_type": "code",
   "execution_count": 30,
   "id": "b99297a5-405a-463d-8535-9adc3da4ad74",
   "metadata": {},
   "outputs": [
    {
     "data": {
      "text/plain": [
       "15"
      ]
     },
     "execution_count": 30,
     "metadata": {},
     "output_type": "execute_result"
    }
   ],
   "source": [
    "# Check for duplicated orders\n",
    "instacart_ordersDF.duplicated().sum()"
   ]
  },
  {
   "cell_type": "markdown",
   "id": "109c5276",
   "metadata": {},
   "source": [
    "I chose to see the number of total duplicates rather than a series of true or false because its simpler to understand. "
   ]
  },
  {
   "cell_type": "code",
   "execution_count": 32,
   "id": "0d44de5d",
   "metadata": {},
   "outputs": [
    {
     "data": {
      "text/html": [
       "<div>\n",
       "<style scoped>\n",
       "    .dataframe tbody tr th:only-of-type {\n",
       "        vertical-align: middle;\n",
       "    }\n",
       "\n",
       "    .dataframe tbody tr th {\n",
       "        vertical-align: top;\n",
       "    }\n",
       "\n",
       "    .dataframe thead th {\n",
       "        text-align: right;\n",
       "    }\n",
       "</style>\n",
       "<table border=\"1\" class=\"dataframe\">\n",
       "  <thead>\n",
       "    <tr style=\"text-align: right;\">\n",
       "      <th></th>\n",
       "      <th>order_id</th>\n",
       "      <th>user_id</th>\n",
       "      <th>order_number</th>\n",
       "      <th>order_dow</th>\n",
       "      <th>order_hour_of_day</th>\n",
       "      <th>days_since_prior_order</th>\n",
       "    </tr>\n",
       "  </thead>\n",
       "  <tbody>\n",
       "    <tr>\n",
       "      <th>1295</th>\n",
       "      <td>1474941</td>\n",
       "      <td>115569</td>\n",
       "      <td>5</td>\n",
       "      <td>2</td>\n",
       "      <td>2</td>\n",
       "      <td>28.0</td>\n",
       "    </tr>\n",
       "    <tr>\n",
       "      <th>2391</th>\n",
       "      <td>1640269</td>\n",
       "      <td>173965</td>\n",
       "      <td>15</td>\n",
       "      <td>2</td>\n",
       "      <td>2</td>\n",
       "      <td>2.0</td>\n",
       "    </tr>\n",
       "    <tr>\n",
       "      <th>2550</th>\n",
       "      <td>1223696</td>\n",
       "      <td>55276</td>\n",
       "      <td>11</td>\n",
       "      <td>2</td>\n",
       "      <td>2</td>\n",
       "      <td>30.0</td>\n",
       "    </tr>\n",
       "    <tr>\n",
       "      <th>5965</th>\n",
       "      <td>579194</td>\n",
       "      <td>85018</td>\n",
       "      <td>14</td>\n",
       "      <td>2</td>\n",
       "      <td>2</td>\n",
       "      <td>11.0</td>\n",
       "    </tr>\n",
       "    <tr>\n",
       "      <th>17680</th>\n",
       "      <td>2004230</td>\n",
       "      <td>203121</td>\n",
       "      <td>4</td>\n",
       "      <td>2</td>\n",
       "      <td>2</td>\n",
       "      <td>8.0</td>\n",
       "    </tr>\n",
       "    <tr>\n",
       "      <th>...</th>\n",
       "      <td>...</td>\n",
       "      <td>...</td>\n",
       "      <td>...</td>\n",
       "      <td>...</td>\n",
       "      <td>...</td>\n",
       "      <td>...</td>\n",
       "    </tr>\n",
       "    <tr>\n",
       "      <th>457660</th>\n",
       "      <td>1562381</td>\n",
       "      <td>19378</td>\n",
       "      <td>5</td>\n",
       "      <td>2</td>\n",
       "      <td>2</td>\n",
       "      <td>6.0</td>\n",
       "    </tr>\n",
       "    <tr>\n",
       "      <th>460316</th>\n",
       "      <td>1986084</td>\n",
       "      <td>117453</td>\n",
       "      <td>81</td>\n",
       "      <td>2</td>\n",
       "      <td>2</td>\n",
       "      <td>8.0</td>\n",
       "    </tr>\n",
       "    <tr>\n",
       "      <th>462676</th>\n",
       "      <td>1362113</td>\n",
       "      <td>19654</td>\n",
       "      <td>20</td>\n",
       "      <td>2</td>\n",
       "      <td>2</td>\n",
       "      <td>21.0</td>\n",
       "    </tr>\n",
       "    <tr>\n",
       "      <th>472800</th>\n",
       "      <td>1746383</td>\n",
       "      <td>88484</td>\n",
       "      <td>19</td>\n",
       "      <td>2</td>\n",
       "      <td>2</td>\n",
       "      <td>5.0</td>\n",
       "    </tr>\n",
       "    <tr>\n",
       "      <th>472923</th>\n",
       "      <td>1519815</td>\n",
       "      <td>149345</td>\n",
       "      <td>1</td>\n",
       "      <td>2</td>\n",
       "      <td>2</td>\n",
       "      <td>NaN</td>\n",
       "    </tr>\n",
       "  </tbody>\n",
       "</table>\n",
       "<p>136 rows × 6 columns</p>\n",
       "</div>"
      ],
      "text/plain": [
       "        order_id  user_id  order_number  order_dow  order_hour_of_day  \\\n",
       "1295     1474941   115569             5          2                  2   \n",
       "2391     1640269   173965            15          2                  2   \n",
       "2550     1223696    55276            11          2                  2   \n",
       "5965      579194    85018            14          2                  2   \n",
       "17680    2004230   203121             4          2                  2   \n",
       "...          ...      ...           ...        ...                ...   \n",
       "457660   1562381    19378             5          2                  2   \n",
       "460316   1986084   117453            81          2                  2   \n",
       "462676   1362113    19654            20          2                  2   \n",
       "472800   1746383    88484            19          2                  2   \n",
       "472923   1519815   149345             1          2                  2   \n",
       "\n",
       "        days_since_prior_order  \n",
       "1295                      28.0  \n",
       "2391                       2.0  \n",
       "2550                      30.0  \n",
       "5965                      11.0  \n",
       "17680                      8.0  \n",
       "...                        ...  \n",
       "457660                     6.0  \n",
       "460316                     8.0  \n",
       "462676                    21.0  \n",
       "472800                     5.0  \n",
       "472923                     NaN  \n",
       "\n",
       "[136 rows x 6 columns]"
      ]
     },
     "execution_count": 32,
     "metadata": {},
     "output_type": "execute_result"
    }
   ],
   "source": [
    "# Check for all orders placed Wednesday at 2:00 AM\n",
    "instacart_ordersDF.query('order_dow == 2 and order_hour_of_day == 2') "
   ]
  },
  {
   "cell_type": "markdown",
   "id": "bfc6c85c",
   "metadata": {},
   "source": [
    "I chose to use the query method as it is easier syntax with the long variable I chose."
   ]
  },
  {
   "cell_type": "code",
   "execution_count": 34,
   "id": "480563c7",
   "metadata": {},
   "outputs": [],
   "source": [
    "# Remove duplicate orders\n",
    "instacart_ordersDF = instacart_ordersDF.drop_duplicates().reset_index(drop=True)"
   ]
  },
  {
   "cell_type": "markdown",
   "id": "fc01f582",
   "metadata": {},
   "source": [
    "the drop_duplicates() method removes all duplicates with one line of code and I called it back on the original DF to solidfy those changes."
   ]
  },
  {
   "cell_type": "code",
   "execution_count": 36,
   "id": "0b2396a2",
   "metadata": {},
   "outputs": [
    {
     "data": {
      "text/plain": [
       "0"
      ]
     },
     "execution_count": 36,
     "metadata": {},
     "output_type": "execute_result"
    }
   ],
   "source": [
    "# Double check for duplicate rows\n",
    "instacart_ordersDF.duplicated().sum()"
   ]
  },
  {
   "cell_type": "code",
   "execution_count": 37,
   "id": "f6113ef1",
   "metadata": {},
   "outputs": [
    {
     "data": {
      "text/plain": [
       "0"
      ]
     },
     "execution_count": 37,
     "metadata": {},
     "output_type": "execute_result"
    }
   ],
   "source": [
    "# Double check for duplicate order IDs only\n",
    "instacart_ordersDF['order_id'].duplicated().sum()"
   ]
  },
  {
   "cell_type": "markdown",
   "id": "2b709913",
   "metadata": {},
   "source": [
    "I called the same methods as before to detect duplicates on the column order_id to ensure no duplicates are there."
   ]
  },
  {
   "cell_type": "markdown",
   "id": "45e6bc46",
   "metadata": {},
   "source": [
    "### `products` data frame"
   ]
  },
  {
   "cell_type": "code",
   "execution_count": 40,
   "id": "5f526b5b-8175-46fa-a0fd-441767d50e64",
   "metadata": {},
   "outputs": [
    {
     "data": {
      "text/plain": [
       "0"
      ]
     },
     "execution_count": 40,
     "metadata": {},
     "output_type": "execute_result"
    }
   ],
   "source": [
    "# Check for fully duplicate rows\n",
    "productsDF.duplicated().sum()"
   ]
  },
  {
   "cell_type": "markdown",
   "id": "ab5dbee6",
   "metadata": {},
   "source": [
    "I chose this line of code as it returns the total amount of fully duplicated rows in the entire DF."
   ]
  },
  {
   "cell_type": "code",
   "execution_count": 42,
   "id": "88daa4f4",
   "metadata": {},
   "outputs": [
    {
     "data": {
      "text/plain": [
       "0"
      ]
     },
     "execution_count": 42,
     "metadata": {},
     "output_type": "execute_result"
    }
   ],
   "source": [
    "# Check for just duplicate product IDs\n",
    "productsDF['product_id'].duplicated().sum()"
   ]
  },
  {
   "cell_type": "markdown",
   "id": "169e6fee",
   "metadata": {},
   "source": [
    "I called the same methods as before on the column product_id to get the number of duplicated product ids."
   ]
  },
  {
   "cell_type": "code",
   "execution_count": 44,
   "id": "c773f0bf",
   "metadata": {},
   "outputs": [
    {
     "data": {
      "text/plain": [
       "1361"
      ]
     },
     "execution_count": 44,
     "metadata": {},
     "output_type": "execute_result"
    }
   ],
   "source": [
    "# Check for just duplicate product names (convert names to lowercase to compare better)\n",
    "productsDF['product_name'].str.lower().duplicated().sum()"
   ]
  },
  {
   "cell_type": "markdown",
   "id": "96db4a98",
   "metadata": {},
   "source": [
    "I first call these methods on the product name column, then I use .str.lower() to make everything lowercase and finalize my search for duplicates using the .duplicated and .sum methods to get the total duplicated product names. "
   ]
  },
  {
   "cell_type": "code",
   "execution_count": 46,
   "id": "01efd02e",
   "metadata": {},
   "outputs": [
    {
     "data": {
      "text/plain": [
       "0"
      ]
     },
     "execution_count": 46,
     "metadata": {},
     "output_type": "execute_result"
    }
   ],
   "source": [
    "# Check for duplicate product names that aren't missing\n",
    "productsDF['product_name'].dropna().duplicated().sum()"
   ]
  },
  {
   "cell_type": "markdown",
   "id": "129021dd",
   "metadata": {},
   "source": [
    "I used dropna() to remove any missing values in the product names column, then i use the duplicated() and sum() methods to get the total duplicated product names that arent missing "
   ]
  },
  {
   "cell_type": "markdown",
   "id": "60f30db1",
   "metadata": {},
   "source": [
    "### `departments` data frame"
   ]
  },
  {
   "cell_type": "code",
   "execution_count": 49,
   "id": "fb410ad4-0fbf-4b80-bb09-23fdea79afe3",
   "metadata": {},
   "outputs": [
    {
     "name": "stdout",
     "output_type": "stream",
     "text": [
      "<class 'pandas.core.frame.DataFrame'>\n",
      "RangeIndex: 21 entries, 0 to 20\n",
      "Data columns (total 2 columns):\n",
      " #   Column         Non-Null Count  Dtype \n",
      "---  ------         --------------  ----- \n",
      " 0   department_id  21 non-null     int64 \n",
      " 1   department     21 non-null     object\n",
      "dtypes: int64(1), object(1)\n",
      "memory usage: 468.0+ bytes\n"
     ]
    }
   ],
   "source": [
    "departmentsDF.info()"
   ]
  },
  {
   "cell_type": "markdown",
   "id": "d2d217bc",
   "metadata": {},
   "source": [
    "I have chose to do nothing because there are no instructions "
   ]
  },
  {
   "cell_type": "markdown",
   "id": "889349c1",
   "metadata": {},
   "source": [
    "### `aisles` data frame"
   ]
  },
  {
   "cell_type": "code",
   "execution_count": 52,
   "id": "9da89fb9-4679-40f5-ad0d-c34df753a3f8",
   "metadata": {},
   "outputs": [
    {
     "name": "stdout",
     "output_type": "stream",
     "text": [
      "<class 'pandas.core.frame.DataFrame'>\n",
      "RangeIndex: 134 entries, 0 to 133\n",
      "Data columns (total 2 columns):\n",
      " #   Column    Non-Null Count  Dtype \n",
      "---  ------    --------------  ----- \n",
      " 0   aisle_id  134 non-null    int64 \n",
      " 1   aisle     134 non-null    object\n",
      "dtypes: int64(1), object(1)\n",
      "memory usage: 2.2+ KB\n"
     ]
    }
   ],
   "source": [
    "aislesDF.info()"
   ]
  },
  {
   "cell_type": "markdown",
   "id": "1c1f0564",
   "metadata": {},
   "source": [
    "I have chose to do nothing because there are no instructions "
   ]
  },
  {
   "cell_type": "markdown",
   "id": "274cd06a",
   "metadata": {},
   "source": [
    "### `order_products` data frame"
   ]
  },
  {
   "cell_type": "code",
   "execution_count": 55,
   "id": "52326689-84a8-4b8f-a881-7c68780f62c9",
   "metadata": {},
   "outputs": [
    {
     "data": {
      "text/plain": [
       "0"
      ]
     },
     "execution_count": 55,
     "metadata": {},
     "output_type": "execute_result"
    }
   ],
   "source": [
    "# Check for fullly duplicate rows\n",
    "order_productsDF.duplicated().sum()"
   ]
  },
  {
   "cell_type": "markdown",
   "id": "131edcfc",
   "metadata": {},
   "source": [
    "I have used the same duplicated and sum methods to get the total number of duplicated rows in the DF."
   ]
  },
  {
   "cell_type": "code",
   "execution_count": 57,
   "id": "08a327ee",
   "metadata": {},
   "outputs": [
    {
     "data": {
      "text/html": [
       "<div>\n",
       "<style scoped>\n",
       "    .dataframe tbody tr th:only-of-type {\n",
       "        vertical-align: middle;\n",
       "    }\n",
       "\n",
       "    .dataframe tbody tr th {\n",
       "        vertical-align: top;\n",
       "    }\n",
       "\n",
       "    .dataframe thead th {\n",
       "        text-align: right;\n",
       "    }\n",
       "</style>\n",
       "<table border=\"1\" class=\"dataframe\">\n",
       "  <thead>\n",
       "    <tr style=\"text-align: right;\">\n",
       "      <th></th>\n",
       "      <th>order_id</th>\n",
       "      <th>product_id</th>\n",
       "      <th>add_to_cart_order</th>\n",
       "      <th>reordered</th>\n",
       "    </tr>\n",
       "  </thead>\n",
       "  <tbody>\n",
       "    <tr>\n",
       "      <th>0</th>\n",
       "      <td>2141543</td>\n",
       "      <td>11440</td>\n",
       "      <td>17.0</td>\n",
       "      <td>0</td>\n",
       "    </tr>\n",
       "    <tr>\n",
       "      <th>1</th>\n",
       "      <td>567889</td>\n",
       "      <td>1560</td>\n",
       "      <td>1.0</td>\n",
       "      <td>1</td>\n",
       "    </tr>\n",
       "    <tr>\n",
       "      <th>2</th>\n",
       "      <td>2261212</td>\n",
       "      <td>26683</td>\n",
       "      <td>1.0</td>\n",
       "      <td>1</td>\n",
       "    </tr>\n",
       "    <tr>\n",
       "      <th>3</th>\n",
       "      <td>491251</td>\n",
       "      <td>8670</td>\n",
       "      <td>35.0</td>\n",
       "      <td>1</td>\n",
       "    </tr>\n",
       "    <tr>\n",
       "      <th>4</th>\n",
       "      <td>2571142</td>\n",
       "      <td>1940</td>\n",
       "      <td>5.0</td>\n",
       "      <td>1</td>\n",
       "    </tr>\n",
       "    <tr>\n",
       "      <th>5</th>\n",
       "      <td>2456893</td>\n",
       "      <td>21616</td>\n",
       "      <td>4.0</td>\n",
       "      <td>1</td>\n",
       "    </tr>\n",
       "    <tr>\n",
       "      <th>6</th>\n",
       "      <td>644579</td>\n",
       "      <td>12341</td>\n",
       "      <td>5.0</td>\n",
       "      <td>1</td>\n",
       "    </tr>\n",
       "    <tr>\n",
       "      <th>7</th>\n",
       "      <td>2231852</td>\n",
       "      <td>44925</td>\n",
       "      <td>10.0</td>\n",
       "      <td>1</td>\n",
       "    </tr>\n",
       "    <tr>\n",
       "      <th>8</th>\n",
       "      <td>3185766</td>\n",
       "      <td>36259</td>\n",
       "      <td>14.0</td>\n",
       "      <td>1</td>\n",
       "    </tr>\n",
       "    <tr>\n",
       "      <th>9</th>\n",
       "      <td>420019</td>\n",
       "      <td>23315</td>\n",
       "      <td>4.0</td>\n",
       "      <td>1</td>\n",
       "    </tr>\n",
       "  </tbody>\n",
       "</table>\n",
       "</div>"
      ],
      "text/plain": [
       "   order_id  product_id  add_to_cart_order  reordered\n",
       "0   2141543       11440               17.0          0\n",
       "1    567889        1560                1.0          1\n",
       "2   2261212       26683                1.0          1\n",
       "3    491251        8670               35.0          1\n",
       "4   2571142        1940                5.0          1\n",
       "5   2456893       21616                4.0          1\n",
       "6    644579       12341                5.0          1\n",
       "7   2231852       44925               10.0          1\n",
       "8   3185766       36259               14.0          1\n",
       "9    420019       23315                4.0          1"
      ]
     },
     "execution_count": 57,
     "metadata": {},
     "output_type": "execute_result"
    }
   ],
   "source": [
    "order_productsDF.head(10)"
   ]
  },
  {
   "cell_type": "code",
   "execution_count": 58,
   "id": "7b861391",
   "metadata": {},
   "outputs": [
    {
     "data": {
      "text/plain": [
       "0"
      ]
     },
     "execution_count": 58,
     "metadata": {},
     "output_type": "execute_result"
    }
   ],
   "source": [
    "# Double check for any other tricky duplicates\n",
    "order_productsDF.duplicated(subset=['order_id', 'product_id']).sum()"
   ]
  },
  {
   "cell_type": "markdown",
   "id": "1c758801",
   "metadata": {},
   "source": [
    "There should be no combination of order id and product id to be duplicated as it would indicate the same order being recorded more than once. I believe this to be a tricky duplicate."
   ]
  },
  {
   "cell_type": "code",
   "execution_count": 60,
   "id": "f5b722f8",
   "metadata": {},
   "outputs": [
    {
     "data": {
      "text/plain": [
       "4094961"
      ]
     },
     "execution_count": 60,
     "metadata": {},
     "output_type": "execute_result"
    }
   ],
   "source": [
    "order_productsDF['order_id'].duplicated().sum()"
   ]
  },
  {
   "cell_type": "markdown",
   "id": "a6403400",
   "metadata": {},
   "source": [
    "I believe the order id should be unique to each order so I checked to see how many duplicates there are in this column."
   ]
  },
  {
   "cell_type": "code",
   "execution_count": 62,
   "id": "38a7571b",
   "metadata": {},
   "outputs": [
    {
     "data": {
      "text/plain": [
       "4499434"
      ]
     },
     "execution_count": 62,
     "metadata": {},
     "output_type": "execute_result"
    }
   ],
   "source": [
    "order_productsDF['product_id'].duplicated().sum()"
   ]
  },
  {
   "cell_type": "markdown",
   "id": "26ee460e",
   "metadata": {},
   "source": [
    "I am unsure if product id should be unique but I wanted to see how many of the same products were ordered."
   ]
  },
  {
   "cell_type": "markdown",
   "id": "1e46de76",
   "metadata": {},
   "source": [
    "## Find and remove missing values\n"
   ]
  },
  {
   "cell_type": "markdown",
   "id": "c0aebd78",
   "metadata": {},
   "source": [
    "### `products` data frame"
   ]
  },
  {
   "cell_type": "code",
   "execution_count": 66,
   "id": "fe4a8b0f",
   "metadata": {},
   "outputs": [
    {
     "data": {
      "text/html": [
       "<div>\n",
       "<style scoped>\n",
       "    .dataframe tbody tr th:only-of-type {\n",
       "        vertical-align: middle;\n",
       "    }\n",
       "\n",
       "    .dataframe tbody tr th {\n",
       "        vertical-align: top;\n",
       "    }\n",
       "\n",
       "    .dataframe thead th {\n",
       "        text-align: right;\n",
       "    }\n",
       "</style>\n",
       "<table border=\"1\" class=\"dataframe\">\n",
       "  <thead>\n",
       "    <tr style=\"text-align: right;\">\n",
       "      <th></th>\n",
       "      <th>product_id</th>\n",
       "      <th>product_name</th>\n",
       "      <th>aisle_id</th>\n",
       "      <th>department_id</th>\n",
       "    </tr>\n",
       "  </thead>\n",
       "  <tbody>\n",
       "    <tr>\n",
       "      <th>0</th>\n",
       "      <td>1</td>\n",
       "      <td>Chocolate Sandwich Cookies</td>\n",
       "      <td>61</td>\n",
       "      <td>19</td>\n",
       "    </tr>\n",
       "    <tr>\n",
       "      <th>1</th>\n",
       "      <td>2</td>\n",
       "      <td>All-Seasons Salt</td>\n",
       "      <td>104</td>\n",
       "      <td>13</td>\n",
       "    </tr>\n",
       "    <tr>\n",
       "      <th>2</th>\n",
       "      <td>3</td>\n",
       "      <td>Robust Golden Unsweetened Oolong Tea</td>\n",
       "      <td>94</td>\n",
       "      <td>7</td>\n",
       "    </tr>\n",
       "    <tr>\n",
       "      <th>3</th>\n",
       "      <td>4</td>\n",
       "      <td>Smart Ones Classic Favorites Mini Rigatoni Wit...</td>\n",
       "      <td>38</td>\n",
       "      <td>1</td>\n",
       "    </tr>\n",
       "    <tr>\n",
       "      <th>4</th>\n",
       "      <td>5</td>\n",
       "      <td>Green Chile Anytime Sauce</td>\n",
       "      <td>5</td>\n",
       "      <td>13</td>\n",
       "    </tr>\n",
       "  </tbody>\n",
       "</table>\n",
       "</div>"
      ],
      "text/plain": [
       "   product_id                                       product_name  aisle_id  \\\n",
       "0           1                         Chocolate Sandwich Cookies        61   \n",
       "1           2                                   All-Seasons Salt       104   \n",
       "2           3               Robust Golden Unsweetened Oolong Tea        94   \n",
       "3           4  Smart Ones Classic Favorites Mini Rigatoni Wit...        38   \n",
       "4           5                          Green Chile Anytime Sauce         5   \n",
       "\n",
       "   department_id  \n",
       "0             19  \n",
       "1             13  \n",
       "2              7  \n",
       "3              1  \n",
       "4             13  "
      ]
     },
     "execution_count": 66,
     "metadata": {},
     "output_type": "execute_result"
    }
   ],
   "source": [
    "productsDF.head()"
   ]
  },
  {
   "cell_type": "code",
   "execution_count": 67,
   "id": "e96167bc",
   "metadata": {},
   "outputs": [],
   "source": [
    "# Are all of the missing product names associated with aisle ID 100?\n",
    "nan_product_names = productsDF['product_name'].isnull()"
   ]
  },
  {
   "cell_type": "markdown",
   "id": "f38ab27f",
   "metadata": {},
   "source": [
    "nan_product_names gives me a series of missing product names either true or false"
   ]
  },
  {
   "cell_type": "code",
   "execution_count": 69,
   "id": "3b0982be",
   "metadata": {},
   "outputs": [],
   "source": [
    "aisles_with_nan_product_names = productsDF.loc[nan_product_names, 'aisle_id']"
   ]
  },
  {
   "cell_type": "markdown",
   "id": "201ebb38",
   "metadata": {},
   "source": [
    "aisles_with_nan_product_names gives me the aisles with missing product names"
   ]
  },
  {
   "cell_type": "code",
   "execution_count": 71,
   "id": "30a9bbaa",
   "metadata": {},
   "outputs": [],
   "source": [
    "aisle_100_nan_product_names = (aisles_with_nan_product_names == 100).all()"
   ]
  },
  {
   "cell_type": "code",
   "execution_count": 72,
   "id": "9ebeb300",
   "metadata": {},
   "outputs": [
    {
     "data": {
      "text/plain": [
       "True"
      ]
     },
     "execution_count": 72,
     "metadata": {},
     "output_type": "execute_result"
    }
   ],
   "source": [
    "aisle_100_nan_product_names"
   ]
  },
  {
   "cell_type": "markdown",
   "id": "7dcf18c9",
   "metadata": {},
   "source": [
    "aisle_100_nan_product_names checks to see if all the missing product names are ascoiated with aisle 100 and .all() method checks if all the values are True, since it returns false I can say not all the missing product names are associated with aisle 100."
   ]
  },
  {
   "cell_type": "code",
   "execution_count": 74,
   "id": "8fd0a541",
   "metadata": {},
   "outputs": [],
   "source": [
    "# Are all of the missing product names associated with department ID 21?\n",
    "department_with_nan_product_names = productsDF.loc[nan_product_names, 'department_id']"
   ]
  },
  {
   "cell_type": "markdown",
   "id": "d966db29",
   "metadata": {},
   "source": [
    "department_with_nan_product_names gives me the number of department ids that have missing product names, while using the same variable nan_product_names as before with the aisles."
   ]
  },
  {
   "cell_type": "code",
   "execution_count": 76,
   "id": "b66b763f",
   "metadata": {},
   "outputs": [],
   "source": [
    "departmentID_21_nan_product_names = (department_with_nan_product_names == 21).all()"
   ]
  },
  {
   "cell_type": "code",
   "execution_count": 77,
   "id": "4ac75269",
   "metadata": {},
   "outputs": [
    {
     "data": {
      "text/plain": [
       "True"
      ]
     },
     "execution_count": 77,
     "metadata": {},
     "output_type": "execute_result"
    }
   ],
   "source": [
    "departmentID_21_nan_product_names"
   ]
  },
  {
   "cell_type": "markdown",
   "id": "3df79adf",
   "metadata": {},
   "source": [
    "departmentID_21_nan_product_names checks to see if all the missing product names are ascoiated with department_id 21, and .all() method checks if all the values are True, since it returns false I can say not all the missing product names are associated with department_id 21."
   ]
  },
  {
   "cell_type": "markdown",
   "id": "962d360c",
   "metadata": {},
   "source": [
    "# What is this ailse and department?\n",
    "department represents an are of the store and the aisle represents a specific area within the department"
   ]
  },
  {
   "cell_type": "code",
   "execution_count": 80,
   "id": "6b295120",
   "metadata": {},
   "outputs": [],
   "source": [
    "# Fill missing product names with 'Unknown'\n",
    "productsDF['product_name'] = productsDF['product_name'].fillna('Unknown')"
   ]
  },
  {
   "cell_type": "markdown",
   "id": "5811f907",
   "metadata": {},
   "source": [
    "this will replace all the Nan values in productsDF with Unknown "
   ]
  },
  {
   "cell_type": "markdown",
   "id": "7eb45c86",
   "metadata": {},
   "source": [
    "### `orders` data frame"
   ]
  },
  {
   "cell_type": "code",
   "execution_count": 83,
   "id": "93e41d96",
   "metadata": {},
   "outputs": [
    {
     "data": {
      "text/html": [
       "<div>\n",
       "<style scoped>\n",
       "    .dataframe tbody tr th:only-of-type {\n",
       "        vertical-align: middle;\n",
       "    }\n",
       "\n",
       "    .dataframe tbody tr th {\n",
       "        vertical-align: top;\n",
       "    }\n",
       "\n",
       "    .dataframe thead th {\n",
       "        text-align: right;\n",
       "    }\n",
       "</style>\n",
       "<table border=\"1\" class=\"dataframe\">\n",
       "  <thead>\n",
       "    <tr style=\"text-align: right;\">\n",
       "      <th></th>\n",
       "      <th>order_id</th>\n",
       "      <th>user_id</th>\n",
       "      <th>order_number</th>\n",
       "      <th>order_dow</th>\n",
       "      <th>order_hour_of_day</th>\n",
       "      <th>days_since_prior_order</th>\n",
       "    </tr>\n",
       "  </thead>\n",
       "  <tbody>\n",
       "    <tr>\n",
       "      <th>0</th>\n",
       "      <td>1515936</td>\n",
       "      <td>183418</td>\n",
       "      <td>11</td>\n",
       "      <td>6</td>\n",
       "      <td>13</td>\n",
       "      <td>30.0</td>\n",
       "    </tr>\n",
       "    <tr>\n",
       "      <th>1</th>\n",
       "      <td>1690866</td>\n",
       "      <td>163593</td>\n",
       "      <td>5</td>\n",
       "      <td>5</td>\n",
       "      <td>12</td>\n",
       "      <td>9.0</td>\n",
       "    </tr>\n",
       "    <tr>\n",
       "      <th>2</th>\n",
       "      <td>1454967</td>\n",
       "      <td>39980</td>\n",
       "      <td>4</td>\n",
       "      <td>5</td>\n",
       "      <td>19</td>\n",
       "      <td>2.0</td>\n",
       "    </tr>\n",
       "    <tr>\n",
       "      <th>3</th>\n",
       "      <td>1768857</td>\n",
       "      <td>82516</td>\n",
       "      <td>56</td>\n",
       "      <td>0</td>\n",
       "      <td>20</td>\n",
       "      <td>10.0</td>\n",
       "    </tr>\n",
       "    <tr>\n",
       "      <th>4</th>\n",
       "      <td>3007858</td>\n",
       "      <td>196724</td>\n",
       "      <td>2</td>\n",
       "      <td>4</td>\n",
       "      <td>12</td>\n",
       "      <td>17.0</td>\n",
       "    </tr>\n",
       "  </tbody>\n",
       "</table>\n",
       "</div>"
      ],
      "text/plain": [
       "   order_id  user_id  order_number  order_dow  order_hour_of_day  \\\n",
       "0   1515936   183418            11          6                 13   \n",
       "1   1690866   163593             5          5                 12   \n",
       "2   1454967    39980             4          5                 19   \n",
       "3   1768857    82516            56          0                 20   \n",
       "4   3007858   196724             2          4                 12   \n",
       "\n",
       "   days_since_prior_order  \n",
       "0                    30.0  \n",
       "1                     9.0  \n",
       "2                     2.0  \n",
       "3                    10.0  \n",
       "4                    17.0  "
      ]
     },
     "execution_count": 83,
     "metadata": {},
     "output_type": "execute_result"
    }
   ],
   "source": [
    "instacart_ordersDF.head()"
   ]
  },
  {
   "cell_type": "code",
   "execution_count": 84,
   "id": "166e5a86",
   "metadata": {},
   "outputs": [
    {
     "name": "stdout",
     "output_type": "stream",
     "text": [
      "0 is not in\n"
     ]
    }
   ],
   "source": [
    "# Are there any missing values where it's not a customer's first order?\n",
    "if 0 in instacart_ordersDF['order_number'].values:\n",
    "    print('0 is in')\n",
    "else:\n",
    "    print('0 is not in')\n",
    "not_first_order = instacart_ordersDF['order_number'] > 1"
   ]
  },
  {
   "cell_type": "markdown",
   "id": "c7b0911c",
   "metadata": {},
   "source": [
    "I first check to see if 0 is being used to represent the first order, since it isnt I assume 1 will be represented as the first order, then I create a variable to represent all the orders that are not the first order."
   ]
  },
  {
   "cell_type": "code",
   "execution_count": 86,
   "id": "0ccaeac9",
   "metadata": {},
   "outputs": [],
   "source": [
    "missing_values = instacart_ordersDF.isnull().any(axis=1)"
   ]
  },
  {
   "cell_type": "markdown",
   "id": "db10d11f",
   "metadata": {},
   "source": [
    "I created the missing_values variable to scan the DF for any rows that have at least 1 NaN value"
   ]
  },
  {
   "cell_type": "code",
   "execution_count": 88,
   "id": "7b53fa9c",
   "metadata": {},
   "outputs": [
    {
     "data": {
      "text/html": [
       "<div>\n",
       "<style scoped>\n",
       "    .dataframe tbody tr th:only-of-type {\n",
       "        vertical-align: middle;\n",
       "    }\n",
       "\n",
       "    .dataframe tbody tr th {\n",
       "        vertical-align: top;\n",
       "    }\n",
       "\n",
       "    .dataframe thead th {\n",
       "        text-align: right;\n",
       "    }\n",
       "</style>\n",
       "<table border=\"1\" class=\"dataframe\">\n",
       "  <thead>\n",
       "    <tr style=\"text-align: right;\">\n",
       "      <th></th>\n",
       "      <th>order_id</th>\n",
       "      <th>user_id</th>\n",
       "      <th>order_number</th>\n",
       "      <th>order_dow</th>\n",
       "      <th>order_hour_of_day</th>\n",
       "      <th>days_since_prior_order</th>\n",
       "    </tr>\n",
       "  </thead>\n",
       "  <tbody>\n",
       "  </tbody>\n",
       "</table>\n",
       "</div>"
      ],
      "text/plain": [
       "Empty DataFrame\n",
       "Columns: [order_id, user_id, order_number, order_dow, order_hour_of_day, days_since_prior_order]\n",
       "Index: []"
      ]
     },
     "execution_count": 88,
     "metadata": {},
     "output_type": "execute_result"
    }
   ],
   "source": [
    "not_first_order_missing = instacart_ordersDF[not_first_order & missing_values]\n",
    "not_first_order_missing"
   ]
  },
  {
   "cell_type": "markdown",
   "id": "2346e41e",
   "metadata": {},
   "source": [
    "I combined both my variables and the result came back empty, so I can say that there are no missing values where its not a customers first orders."
   ]
  },
  {
   "cell_type": "markdown",
   "id": "69dc9ca4",
   "metadata": {},
   "source": [
    "### `order_products` data frame"
   ]
  },
  {
   "cell_type": "code",
   "execution_count": 91,
   "id": "b8240253",
   "metadata": {},
   "outputs": [
    {
     "data": {
      "text/html": [
       "<div>\n",
       "<style scoped>\n",
       "    .dataframe tbody tr th:only-of-type {\n",
       "        vertical-align: middle;\n",
       "    }\n",
       "\n",
       "    .dataframe tbody tr th {\n",
       "        vertical-align: top;\n",
       "    }\n",
       "\n",
       "    .dataframe thead th {\n",
       "        text-align: right;\n",
       "    }\n",
       "</style>\n",
       "<table border=\"1\" class=\"dataframe\">\n",
       "  <thead>\n",
       "    <tr style=\"text-align: right;\">\n",
       "      <th></th>\n",
       "      <th>order_id</th>\n",
       "      <th>product_id</th>\n",
       "      <th>add_to_cart_order</th>\n",
       "      <th>reordered</th>\n",
       "    </tr>\n",
       "  </thead>\n",
       "  <tbody>\n",
       "    <tr>\n",
       "      <th>0</th>\n",
       "      <td>2141543</td>\n",
       "      <td>11440</td>\n",
       "      <td>17.0</td>\n",
       "      <td>0</td>\n",
       "    </tr>\n",
       "    <tr>\n",
       "      <th>1</th>\n",
       "      <td>567889</td>\n",
       "      <td>1560</td>\n",
       "      <td>1.0</td>\n",
       "      <td>1</td>\n",
       "    </tr>\n",
       "    <tr>\n",
       "      <th>2</th>\n",
       "      <td>2261212</td>\n",
       "      <td>26683</td>\n",
       "      <td>1.0</td>\n",
       "      <td>1</td>\n",
       "    </tr>\n",
       "    <tr>\n",
       "      <th>3</th>\n",
       "      <td>491251</td>\n",
       "      <td>8670</td>\n",
       "      <td>35.0</td>\n",
       "      <td>1</td>\n",
       "    </tr>\n",
       "    <tr>\n",
       "      <th>4</th>\n",
       "      <td>2571142</td>\n",
       "      <td>1940</td>\n",
       "      <td>5.0</td>\n",
       "      <td>1</td>\n",
       "    </tr>\n",
       "  </tbody>\n",
       "</table>\n",
       "</div>"
      ],
      "text/plain": [
       "   order_id  product_id  add_to_cart_order  reordered\n",
       "0   2141543       11440               17.0          0\n",
       "1    567889        1560                1.0          1\n",
       "2   2261212       26683                1.0          1\n",
       "3    491251        8670               35.0          1\n",
       "4   2571142        1940                5.0          1"
      ]
     },
     "execution_count": 91,
     "metadata": {},
     "output_type": "execute_result"
    }
   ],
   "source": [
    "order_productsDF.head()"
   ]
  },
  {
   "cell_type": "code",
   "execution_count": 92,
   "id": "9a78e5ee",
   "metadata": {},
   "outputs": [
    {
     "data": {
      "text/plain": [
       "order_id             4.0\n",
       "product_id           1.0\n",
       "add_to_cart_order    1.0\n",
       "reordered            0.0\n",
       "dtype: float64"
      ]
     },
     "execution_count": 92,
     "metadata": {},
     "output_type": "execute_result"
    }
   ],
   "source": [
    "# What are the min and max values in this column?\n",
    "order_productsDF.min()"
   ]
  },
  {
   "cell_type": "code",
   "execution_count": 93,
   "id": "2f7d3b0e",
   "metadata": {},
   "outputs": [
    {
     "data": {
      "text/plain": [
       "order_id             3421079.0\n",
       "product_id             49694.0\n",
       "add_to_cart_order         64.0\n",
       "reordered                  1.0\n",
       "dtype: float64"
      ]
     },
     "execution_count": 93,
     "metadata": {},
     "output_type": "execute_result"
    }
   ],
   "source": [
    "order_productsDF.max()"
   ]
  },
  {
   "cell_type": "markdown",
   "id": "80c62475",
   "metadata": {},
   "source": [
    "I used the .min() and .max() methods to get the answer."
   ]
  },
  {
   "cell_type": "code",
   "execution_count": 95,
   "id": "ab9d0c2b",
   "metadata": {},
   "outputs": [],
   "source": [
    "# Save all order IDs with at least one missing value in 'add_to_cart_order'\n",
    "order_id_missing = order_productsDF.loc[order_productsDF['add_to_cart_order'].isnull(), 'order_id']"
   ]
  },
  {
   "cell_type": "markdown",
   "id": "c778247b",
   "metadata": {},
   "source": [
    "first I use loc and isnull on add_to_cart_order column to find all the ones with missing values and pair it with order_id column to get all the order_ids with at least one missing value in add_to_cart_order column."
   ]
  },
  {
   "cell_type": "code",
   "execution_count": 97,
   "id": "54c31695",
   "metadata": {},
   "outputs": [
    {
     "data": {
      "text/html": [
       "<div>\n",
       "<style scoped>\n",
       "    .dataframe tbody tr th:only-of-type {\n",
       "        vertical-align: middle;\n",
       "    }\n",
       "\n",
       "    .dataframe tbody tr th {\n",
       "        vertical-align: top;\n",
       "    }\n",
       "\n",
       "    .dataframe thead th {\n",
       "        text-align: right;\n",
       "    }\n",
       "</style>\n",
       "<table border=\"1\" class=\"dataframe\">\n",
       "  <thead>\n",
       "    <tr style=\"text-align: right;\">\n",
       "      <th></th>\n",
       "      <th>order_id</th>\n",
       "      <th>product_id</th>\n",
       "      <th>add_to_cart_order</th>\n",
       "      <th>reordered</th>\n",
       "    </tr>\n",
       "  </thead>\n",
       "  <tbody>\n",
       "  </tbody>\n",
       "</table>\n",
       "</div>"
      ],
      "text/plain": [
       "Empty DataFrame\n",
       "Columns: [order_id, product_id, add_to_cart_order, reordered]\n",
       "Index: []"
      ]
     },
     "execution_count": 97,
     "metadata": {},
     "output_type": "execute_result"
    }
   ],
   "source": [
    "# Do all orders with missing values have more than 64 products?\n",
    "order_productsDF[order_productsDF['add_to_cart_order'] > 64]"
   ]
  },
  {
   "cell_type": "markdown",
   "id": "fef68a69",
   "metadata": {},
   "source": [
    "Since I got no orders over 64 for the entire DF, I can say all orders with missing values do not have more than 64 products."
   ]
  },
  {
   "cell_type": "code",
   "execution_count": 99,
   "id": "7a987d08",
   "metadata": {},
   "outputs": [
    {
     "name": "stdout",
     "output_type": "stream",
     "text": [
      "<class 'pandas.core.frame.DataFrame'>\n",
      "RangeIndex: 4545007 entries, 0 to 4545006\n",
      "Data columns (total 4 columns):\n",
      " #   Column             Dtype\n",
      "---  ------             -----\n",
      " 0   order_id           int64\n",
      " 1   product_id         int64\n",
      " 2   add_to_cart_order  int32\n",
      " 3   reordered          int64\n",
      "dtypes: int32(1), int64(3)\n",
      "memory usage: 121.4 MB\n"
     ]
    }
   ],
   "source": [
    "# Replace missing values with 999 and convert column to integer type\n",
    "order_productsDF['add_to_cart_order'] = order_productsDF['add_to_cart_order'].fillna('999').astype(int)\n",
    "order_productsDF.info()"
   ]
  },
  {
   "cell_type": "markdown",
   "id": "6930fce8",
   "metadata": {},
   "source": [
    "I used fillna method to fill all the Nan values with the requested value and then used astype method to change the data type to int, I called these methods back on the column to solidify the changes."
   ]
  },
  {
   "cell_type": "markdown",
   "id": "7f74f5ea",
   "metadata": {},
   "source": [
    "I am not sure which column to change in the order_products DF."
   ]
  },
  {
   "cell_type": "markdown",
   "id": "turkish-kidney",
   "metadata": {},
   "source": [
    "# [A] Easy (must complete all to pass)"
   ]
  },
  {
   "cell_type": "markdown",
   "id": "short-capability",
   "metadata": {},
   "source": [
    "### [A1] Verify that the `'order_hour_of_day'` and `'order_dow'` values in the `orders` tables are sensible (i.e. `'order_hour_of_day'` ranges from 0 to 23 and `'order_dow'` ranges from 0 to 6)"
   ]
  },
  {
   "cell_type": "code",
   "execution_count": 104,
   "id": "growing-fruit",
   "metadata": {},
   "outputs": [
    {
     "name": "stdout",
     "output_type": "stream",
     "text": [
      "values are between 0 and 23\n",
      "hours are between 0 and 6\n"
     ]
    }
   ],
   "source": [
    "hours_min = instacart_ordersDF['order_hour_of_day'].min()\n",
    "hours_max = instacart_ordersDF['order_hour_of_day'].max()\n",
    "dow_min = instacart_ordersDF['order_dow'].min()\n",
    "dow_max = instacart_ordersDF['order_dow'].max()\n",
    "if hours_min >= 0 and hours_max <= 23:\n",
    "    print('values are between 0 and 23')\n",
    "else:\n",
    "    print('no')\n",
    "    \n",
    "if dow_min >= 0 and dow_max <= 6:\n",
    "    print('hours are between 0 and 6')\n",
    "else:\n",
    "    print('no')"
   ]
  },
  {
   "cell_type": "code",
   "execution_count": 105,
   "id": "b15b82e1",
   "metadata": {},
   "outputs": [
    {
     "data": {
      "text/plain": [
       "<Axes: title={'center': 'Distribution of order_hour_of_day'}, xlabel='Hour of Day', ylabel='Count'>"
      ]
     },
     "execution_count": 105,
     "metadata": {},
     "output_type": "execute_result"
    },
    {
     "data": {
      "image/png": "[encoded data removed]",
      "text/plain": [
       "<Figure size 640x480 with 1 Axes>"
      ]
     },
     "metadata": {},
     "output_type": "display_data"
    }
   ],
   "source": [
    "instacart_ordersDF['order_hour_of_day'].plot(\n",
    "    x='order_hour_of_day',\n",
    "    kind='hist',\n",
    "    bins=24,\n",
    "    edgecolor='black',\n",
    "    title='Distribution of order_hour_of_day',\n",
    "    xlabel='Hour of Day',\n",
    "    ylabel='Count'\n",
    ")"
   ]
  },
  {
   "cell_type": "code",
   "execution_count": 106,
   "id": "1e5a59f4",
   "metadata": {},
   "outputs": [
    {
     "data": {
      "text/plain": [
       "<Axes: title={'center': 'Distribution of order_dow'}, xlabel='Day of week (0=Sunday ... 6=Saturday)', ylabel='Count'>"
      ]
     },
     "execution_count": 106,
     "metadata": {},
     "output_type": "execute_result"
    },
    {
     "data": {
      "image/png": "[encoded data removed]",
      "text/plain": [
       "<Figure size 640x480 with 1 Axes>"
      ]
     },
     "metadata": {},
     "output_type": "display_data"
    }
   ],
   "source": [
    "instacart_ordersDF['order_dow'].plot(\n",
    "    x='order_dow',\n",
    "    kind='hist',\n",
    "    bins=24,\n",
    "    edgecolor='black',\n",
    "    title='Distribution of order_dow',\n",
    "    xlabel='Day of week (0=Sunday ... 6=Saturday)',\n",
    "    ylabel='Count'\n",
    ")\n"
   ]
  },
  {
   "cell_type": "markdown",
   "id": "7eec626f",
   "metadata": {},
   "source": [
    "hours are between 0 and 23. dow is between 0 and 6. I used min and max with an if statement to give me my answer."
   ]
  },
  {
   "cell_type": "markdown",
   "id": "a6743a70",
   "metadata": {},
   "source": [
    "### [A2] What time of day do people shop for groceries?"
   ]
  },
  {
   "cell_type": "code",
   "execution_count": 109,
   "id": "a36cca27",
   "metadata": {},
   "outputs": [
    {
     "data": {
      "text/plain": [
       "13.447034358349063"
      ]
     },
     "execution_count": 109,
     "metadata": {},
     "output_type": "execute_result"
    }
   ],
   "source": [
    "time_day_average = instacart_ordersDF['order_hour_of_day'].mean()\n",
    "time_day_average"
   ]
  },
  {
   "cell_type": "code",
   "execution_count": 110,
   "id": "ea1747a9",
   "metadata": {},
   "outputs": [
    {
     "data": {
      "text/plain": [
       "<Axes: title={'center': 'Distribution of order_hour_of_day'}, xlabel='Hour of Day', ylabel='Count'>"
      ]
     },
     "execution_count": 110,
     "metadata": {},
     "output_type": "execute_result"
    },
    {
     "data": {
      "image/png": "[encoded data removed]",
      "text/plain": [
       "<Figure size 640x480 with 1 Axes>"
      ]
     },
     "metadata": {},
     "output_type": "display_data"
    }
   ],
   "source": [
    "instacart_ordersDF['order_hour_of_day'].plot(\n",
    "    x='order_hour_of_day',\n",
    "    kind='hist',\n",
    "    bins=24,\n",
    "    edgecolor='black',\n",
    "    title='Distribution of order_hour_of_day',\n",
    "    xlabel='Hour of Day',\n",
    "    ylabel='Count'\n",
    ")\n"
   ]
  },
  {
   "cell_type": "markdown",
   "id": "bb87e8c3",
   "metadata": {},
   "source": [
    "I used the mean method on the order_hour_of_day column to get the average number which rounds to 13. People shop at 2pm."
   ]
  },
  {
   "cell_type": "markdown",
   "id": "documented-command",
   "metadata": {},
   "source": [
    "### [A3] What day of the week do people shop for groceries?"
   ]
  },
  {
   "cell_type": "code",
   "execution_count": 113,
   "id": "chief-digit",
   "metadata": {},
   "outputs": [
    {
     "data": {
      "text/plain": [
       "2.775050526983915"
      ]
     },
     "execution_count": 113,
     "metadata": {},
     "output_type": "execute_result"
    }
   ],
   "source": [
    "dow_average = instacart_ordersDF['order_dow'].mean()\n",
    "dow_average"
   ]
  },
  {
   "cell_type": "code",
   "execution_count": 114,
   "id": "2cd7ba1c",
   "metadata": {},
   "outputs": [
    {
     "data": {
      "text/plain": [
       "<Axes: title={'center': 'Distribution of order_dow'}, xlabel='Day of week (0=Sunday ... 6=Saturday)', ylabel='Count'>"
      ]
     },
     "execution_count": 114,
     "metadata": {},
     "output_type": "execute_result"
    },
    {
     "data": {
      "image/png": "[encoded data removed]",
      "text/plain": [
       "<Figure size 640x480 with 1 Axes>"
      ]
     },
     "metadata": {},
     "output_type": "display_data"
    }
   ],
   "source": [
    "instacart_ordersDF['order_dow'].plot(\n",
    "    x='order_dow',\n",
    "    kind='hist',\n",
    "    bins=24,\n",
    "    edgecolor='black',\n",
    "    title='Distribution of order_dow',\n",
    "    xlabel='Day of week (0=Sunday ... 6=Saturday)',\n",
    "    ylabel='Count'\n",
    ")\n"
   ]
  },
  {
   "cell_type": "markdown",
   "id": "22d60dcf",
   "metadata": {},
   "source": [
    "I used the same method as before to find the average but I will not round up with the day because this is a categorial column. People shop on Wednesday the most."
   ]
  },
  {
   "cell_type": "markdown",
   "id": "cutting-concert",
   "metadata": {},
   "source": [
    "### [A4] How long do people wait until placing another order?"
   ]
  },
  {
   "cell_type": "code",
   "execution_count": 117,
   "id": "c231f523",
   "metadata": {},
   "outputs": [
    {
     "data": {
      "text/plain": [
       "11.101813900274362"
      ]
     },
     "execution_count": 117,
     "metadata": {},
     "output_type": "execute_result"
    }
   ],
   "source": [
    "days_since_average = instacart_ordersDF['days_since_prior_order'].mean()\n",
    "days_since_average"
   ]
  },
  {
   "cell_type": "code",
   "execution_count": 118,
   "id": "5c2bb4eb",
   "metadata": {},
   "outputs": [
    {
     "data": {
      "image/png": "[encoded data removed]",
      "text/plain": [
       "<Figure size 800x500 with 1 Axes>"
      ]
     },
     "metadata": {},
     "output_type": "display_data"
    }
   ],
   "source": [
    "instacart_ordersDF['days_since_prior_order'].plot(\n",
    "    kind='hist',\n",
    "    bins=30,\n",
    "    figsize=(8,5),\n",
    "    edgecolor='black',\n",
    "    title='Distribution of days_since_prior_order'\n",
    ")\n",
    "\n",
    "plt.xlabel('Days Since Prior Order')\n",
    "plt.ylabel('Number of Orders')\n",
    "plt.show()"
   ]
  },
  {
   "cell_type": "markdown",
   "id": "4c251dc7",
   "metadata": {},
   "source": [
    "Using the same methods as before to calculate the average of a column, I found that people wait 11 days to place another order."
   ]
  },
  {
   "cell_type": "markdown",
   "id": "tight-staff",
   "metadata": {},
   "source": [
    "# [B] Medium (must complete all to pass)"
   ]
  },
  {
   "cell_type": "markdown",
   "id": "packed-classic",
   "metadata": {},
   "source": [
    "### [B1] Is there a difference in `'order_hour_of_day'` distributions on Wednesdays and Saturdays? Plot the histograms for both days and describe the differences that you see."
   ]
  },
  {
   "cell_type": "code",
   "execution_count": 122,
   "id": "d89b8403",
   "metadata": {},
   "outputs": [
    {
     "data": {
      "text/plain": [
       "<Figure size 1200x500 with 0 Axes>"
      ]
     },
     "execution_count": 122,
     "metadata": {},
     "output_type": "execute_result"
    },
    {
     "data": {
      "text/plain": [
       "<Figure size 1200x500 with 0 Axes>"
      ]
     },
     "metadata": {},
     "output_type": "display_data"
    }
   ],
   "source": [
    "wednesday = instacart_ordersDF[instacart_ordersDF['order_dow'] == 3]\n",
    "saturday = instacart_ordersDF[instacart_ordersDF['order_dow'] == 6] \n",
    "\n",
    "plt.figure(figsize=(12,5))"
   ]
  },
  {
   "cell_type": "code",
   "execution_count": 123,
   "id": "94e54e8a",
   "metadata": {},
   "outputs": [
    {
     "data": {
      "text/plain": [
       "Text(0, 0.5, 'Count')"
      ]
     },
     "execution_count": 123,
     "metadata": {},
     "output_type": "execute_result"
    },
    {
     "data": {
      "image/png": "[encoded data removed]",
      "text/plain": [
       "<Figure size 640x480 with 1 Axes>"
      ]
     },
     "metadata": {},
     "output_type": "display_data"
    }
   ],
   "source": [
    "plt.subplot(1,2,1)\n",
    "wednesday['order_hour_of_day'].hist(bins=24, edgecolor='black')\n",
    "plt.title('Order Hour Distribution on Wednesday')\n",
    "plt.xlabel('Hour of Day')\n",
    "plt.ylabel('Count')"
   ]
  },
  {
   "cell_type": "code",
   "execution_count": 124,
   "id": "797c90a8",
   "metadata": {},
   "outputs": [
    {
     "data": {
      "text/plain": [
       "<function matplotlib.pyplot.show(close=None, block=None)>"
      ]
     },
     "execution_count": 124,
     "metadata": {},
     "output_type": "execute_result"
    },
    {
     "data": {
      "image/png": "[encoded data removed]",
      "text/plain": [
       "<Figure size 640x480 with 1 Axes>"
      ]
     },
     "metadata": {},
     "output_type": "display_data"
    }
   ],
   "source": [
    "plt.subplot(1,2,2)\n",
    "saturday['order_hour_of_day'].hist(bins=24, edgecolor='black')\n",
    "plt.title('Order Hour Distribution on Saturday')\n",
    "plt.xlabel('Hour of Day')\n",
    "plt.ylabel('Count')\n",
    "\n",
    "plt.tight_layout()\n",
    "plt.show"
   ]
  },
  {
   "cell_type": "markdown",
   "id": "15592028",
   "metadata": {},
   "source": [
    "I found that there isn't much of a difference except that Saturdays have slightly more orders from 10 to 15 and on both days the orders start to go down after 15."
   ]
  },
  {
   "cell_type": "markdown",
   "id": "e3891143",
   "metadata": {},
   "source": [
    "### [B2] What's the distribution for the number of orders per customer?"
   ]
  },
  {
   "cell_type": "code",
   "execution_count": 127,
   "id": "d8c26c23",
   "metadata": {},
   "outputs": [
    {
     "data": {
      "text/plain": [
       "17.157562762030434"
      ]
     },
     "execution_count": 127,
     "metadata": {},
     "output_type": "execute_result"
    }
   ],
   "source": [
    "orders_per_customer_average = instacart_ordersDF['order_number'].mean()\n",
    "orders_per_customer_average"
   ]
  },
  {
   "cell_type": "code",
   "execution_count": 128,
   "id": "40efa3e2",
   "metadata": {},
   "outputs": [
    {
     "data": {
      "image/png": "[encoded data removed]",
      "text/plain": [
       "<Figure size 800x500 with 1 Axes>"
      ]
     },
     "metadata": {},
     "output_type": "display_data"
    }
   ],
   "source": [
    "orders_per_customer = instacart_ordersDF.groupby('user_id')['order_number'].max()\n",
    "\n",
    "orders_per_customer.plot(\n",
    "    kind='hist',\n",
    "    bins=30,\n",
    "    edgecolor='black',\n",
    "    title='Distribution of Number of Orders per Customer (Using order_number)',\n",
    "    figsize=(8, 5)\n",
    ")\n",
    "\n",
    "plt.xlabel('Number of Orders per Customer')\n",
    "plt.ylabel('Number of Customers')\n",
    "\n",
    "plt.show()"
   ]
  },
  {
   "cell_type": "markdown",
   "id": "5b516327",
   "metadata": {},
   "source": [
    "Customers make around 17 orders. I calculated the average for the order_number column to get this result. I used groupby with max method to get each customers total count of orders and then plotted my results."
   ]
  },
  {
   "cell_type": "markdown",
   "id": "54a0319c",
   "metadata": {},
   "source": [
    "### [B3] What are the top 20 popular products (display their id and name)?"
   ]
  },
  {
   "cell_type": "code",
   "execution_count": 131,
   "id": "7e1f139c",
   "metadata": {},
   "outputs": [],
   "source": [
    "mergedDF = pd.merge(order_productsDF, productsDF, on='product_id', how='inner')"
   ]
  },
  {
   "cell_type": "markdown",
   "id": "b600e247",
   "metadata": {},
   "source": [
    "I merged order_productsDF and productsDF using product_id as the key to make them one DF."
   ]
  },
  {
   "cell_type": "code",
   "execution_count": 133,
   "id": "1836ea6d",
   "metadata": {},
   "outputs": [],
   "source": [
    "product_counts = mergedDF.groupby(['product_id', 'product_name'])['order_id'].count()"
   ]
  },
  {
   "cell_type": "markdown",
   "id": "ace1a81b",
   "metadata": {},
   "source": [
    "Now I take my new merged DF and use groupby on the count method to get the number of order_id entries which represents the times a product was ordered."
   ]
  },
  {
   "cell_type": "code",
   "execution_count": 135,
   "id": "33c0b19d",
   "metadata": {},
   "outputs": [
    {
     "data": {
      "text/plain": [
       "product_id  product_name            \n",
       "24852       Banana                      66050\n",
       "13176       Bag of Organic Bananas      53297\n",
       "21137       Organic Strawberries        37039\n",
       "21903       Organic Baby Spinach        33971\n",
       "47209       Organic Hass Avocado        29773\n",
       "47766       Organic Avocado             24689\n",
       "47626       Large Lemon                 21495\n",
       "16797       Strawberries                20018\n",
       "26209       Limes                       19690\n",
       "27845       Organic Whole Milk          19600\n",
       "27966       Organic Raspberries         19197\n",
       "22935       Organic Yellow Onion        15898\n",
       "24964       Organic Garlic              15292\n",
       "45007       Organic Zucchini            14584\n",
       "39275       Organic Blueberries         13879\n",
       "49683       Cucumber Kirby              13675\n",
       "28204       Organic Fuji Apple          12544\n",
       "5876        Organic Lemon               12232\n",
       "8277        Apple Honeycrisp Organic    11993\n",
       "40706       Organic Grape Tomatoes      11781\n",
       "Name: order_id, dtype: int64"
      ]
     },
     "execution_count": 135,
     "metadata": {},
     "output_type": "execute_result"
    }
   ],
   "source": [
    "top_20_products = product_counts.sort_values(ascending=False).head(20)\n",
    "top_20_products"
   ]
  },
  {
   "cell_type": "markdown",
   "id": "d587f615",
   "metadata": {},
   "source": [
    "I take my results from before and use sort_values method to sort the products by their order count and I have the top 20 products ordered."
   ]
  },
  {
   "cell_type": "markdown",
   "id": "gross-theme",
   "metadata": {},
   "source": [
    "# [C] Hard (must complete at least two to pass)"
   ]
  },
  {
   "cell_type": "markdown",
   "id": "romantic-deposit",
   "metadata": {},
   "source": [
    "### [C1] How many items do people typically buy in one order? What does the distribution look like?"
   ]
  },
  {
   "cell_type": "code",
   "execution_count": 139,
   "id": "virtual-punch",
   "metadata": {},
   "outputs": [],
   "source": [
    "items_per_order = order_productsDF.groupby('order_id')['product_id'].count()"
   ]
  },
  {
   "cell_type": "markdown",
   "id": "ecc21b13",
   "metadata": {},
   "source": [
    "I group the order_productsDF by order_id and use counts method to count the number of products (product_id) in each order"
   ]
  },
  {
   "cell_type": "code",
   "execution_count": 141,
   "id": "completed-frank",
   "metadata": {},
   "outputs": [
    {
     "name": "stdout",
     "output_type": "stream",
     "text": [
      "Mean number of items per order: 10.10\n",
      "Median number of items per order: 8.00\n"
     ]
    }
   ],
   "source": [
    "mean_items = items_per_order.mean()\n",
    "median_items = items_per_order.median()\n",
    "print(f\"Mean number of items per order: {mean_items:.2f}\")\n",
    "print(f\"Median number of items per order: {median_items:.2f}\")"
   ]
  },
  {
   "cell_type": "code",
   "execution_count": 142,
   "id": "9a08c90a",
   "metadata": {},
   "outputs": [
    {
     "data": {
      "image/png": "[encoded data removed]",
      "text/plain": [
       "<Figure size 640x480 with 1 Axes>"
      ]
     },
     "metadata": {},
     "output_type": "display_data"
    }
   ],
   "source": [
    "items_per_order.plot(\n",
    "    kind='hist', \n",
    "    bins=50, \n",
    "    edgecolor='black', \n",
    "    alpha=0.7, \n",
    "    title='Distribution of Number of Items per Order'\n",
    ")\n",
    "\n",
    "plt.axvline(mean_items, color='red', linestyle='--', label=f'Mean = {mean_items:.2f}')\n",
    "plt.axvline(median_items, color='blue', linestyle='--', label=f'Median = {median_items:.2f}')\n",
    "\n",
    "plt.xlabel('Number of Items')\n",
    "plt.ylabel('Number of Orders')\n",
    "plt.legend()\n",
    "\n",
    "plt.show()"
   ]
  },
  {
   "cell_type": "markdown",
   "id": "11f3afe5",
   "metadata": {},
   "source": [
    "people typically buy 8-10 items per order."
   ]
  },
  {
   "cell_type": "markdown",
   "id": "5e6b5537",
   "metadata": {},
   "source": [
    "### [C2] What are the top 20 items that are reordered most frequently (display their names and product IDs)?"
   ]
  },
  {
   "cell_type": "code",
   "execution_count": 145,
   "id": "9374e55a",
   "metadata": {},
   "outputs": [],
   "source": [
    "reordered_items = mergedDF[mergedDF['reordered'] == 1]"
   ]
  },
  {
   "cell_type": "markdown",
   "id": "e8108c5f",
   "metadata": {
    "scrolled": true
   },
   "source": [
    "using my mergedDF from before I filter rows where reordered is 1 to ensure I only look at reordered items."
   ]
  },
  {
   "cell_type": "code",
   "execution_count": 147,
   "id": "professional-surfing",
   "metadata": {
    "scrolled": true
   },
   "outputs": [],
   "source": [
    "reordered_counts = reordered_items.groupby(['product_id', 'product_name']).size()"
   ]
  },
  {
   "cell_type": "markdown",
   "id": "90edabf4",
   "metadata": {},
   "source": [
    "Now I will count the number of items each product was reordered."
   ]
  },
  {
   "cell_type": "code",
   "execution_count": 149,
   "id": "48dd3658",
   "metadata": {},
   "outputs": [
    {
     "data": {
      "text/html": [
       "<div>\n",
       "<style scoped>\n",
       "    .dataframe tbody tr th:only-of-type {\n",
       "        vertical-align: middle;\n",
       "    }\n",
       "\n",
       "    .dataframe tbody tr th {\n",
       "        vertical-align: top;\n",
       "    }\n",
       "\n",
       "    .dataframe thead th {\n",
       "        text-align: right;\n",
       "    }\n",
       "</style>\n",
       "<table border=\"1\" class=\"dataframe\">\n",
       "  <thead>\n",
       "    <tr style=\"text-align: right;\">\n",
       "      <th></th>\n",
       "      <th>product_id</th>\n",
       "      <th>product_name</th>\n",
       "      <th>reorder_count</th>\n",
       "    </tr>\n",
       "  </thead>\n",
       "  <tbody>\n",
       "    <tr>\n",
       "      <th>0</th>\n",
       "      <td>24852</td>\n",
       "      <td>Banana</td>\n",
       "      <td>55763</td>\n",
       "    </tr>\n",
       "    <tr>\n",
       "      <th>1</th>\n",
       "      <td>13176</td>\n",
       "      <td>Bag of Organic Bananas</td>\n",
       "      <td>44450</td>\n",
       "    </tr>\n",
       "    <tr>\n",
       "      <th>2</th>\n",
       "      <td>21137</td>\n",
       "      <td>Organic Strawberries</td>\n",
       "      <td>28639</td>\n",
       "    </tr>\n",
       "    <tr>\n",
       "      <th>3</th>\n",
       "      <td>21903</td>\n",
       "      <td>Organic Baby Spinach</td>\n",
       "      <td>26233</td>\n",
       "    </tr>\n",
       "    <tr>\n",
       "      <th>4</th>\n",
       "      <td>47209</td>\n",
       "      <td>Organic Hass Avocado</td>\n",
       "      <td>23629</td>\n",
       "    </tr>\n",
       "    <tr>\n",
       "      <th>5</th>\n",
       "      <td>47766</td>\n",
       "      <td>Organic Avocado</td>\n",
       "      <td>18743</td>\n",
       "    </tr>\n",
       "    <tr>\n",
       "      <th>6</th>\n",
       "      <td>27845</td>\n",
       "      <td>Organic Whole Milk</td>\n",
       "      <td>16251</td>\n",
       "    </tr>\n",
       "    <tr>\n",
       "      <th>7</th>\n",
       "      <td>47626</td>\n",
       "      <td>Large Lemon</td>\n",
       "      <td>15044</td>\n",
       "    </tr>\n",
       "    <tr>\n",
       "      <th>8</th>\n",
       "      <td>27966</td>\n",
       "      <td>Organic Raspberries</td>\n",
       "      <td>14748</td>\n",
       "    </tr>\n",
       "    <tr>\n",
       "      <th>9</th>\n",
       "      <td>16797</td>\n",
       "      <td>Strawberries</td>\n",
       "      <td>13945</td>\n",
       "    </tr>\n",
       "    <tr>\n",
       "      <th>10</th>\n",
       "      <td>26209</td>\n",
       "      <td>Limes</td>\n",
       "      <td>13327</td>\n",
       "    </tr>\n",
       "    <tr>\n",
       "      <th>11</th>\n",
       "      <td>22935</td>\n",
       "      <td>Organic Yellow Onion</td>\n",
       "      <td>11145</td>\n",
       "    </tr>\n",
       "    <tr>\n",
       "      <th>12</th>\n",
       "      <td>24964</td>\n",
       "      <td>Organic Garlic</td>\n",
       "      <td>10411</td>\n",
       "    </tr>\n",
       "    <tr>\n",
       "      <th>13</th>\n",
       "      <td>45007</td>\n",
       "      <td>Organic Zucchini</td>\n",
       "      <td>10076</td>\n",
       "    </tr>\n",
       "    <tr>\n",
       "      <th>14</th>\n",
       "      <td>49683</td>\n",
       "      <td>Cucumber Kirby</td>\n",
       "      <td>9538</td>\n",
       "    </tr>\n",
       "    <tr>\n",
       "      <th>15</th>\n",
       "      <td>28204</td>\n",
       "      <td>Organic Fuji Apple</td>\n",
       "      <td>8989</td>\n",
       "    </tr>\n",
       "    <tr>\n",
       "      <th>16</th>\n",
       "      <td>8277</td>\n",
       "      <td>Apple Honeycrisp Organic</td>\n",
       "      <td>8836</td>\n",
       "    </tr>\n",
       "    <tr>\n",
       "      <th>17</th>\n",
       "      <td>39275</td>\n",
       "      <td>Organic Blueberries</td>\n",
       "      <td>8799</td>\n",
       "    </tr>\n",
       "    <tr>\n",
       "      <th>18</th>\n",
       "      <td>5876</td>\n",
       "      <td>Organic Lemon</td>\n",
       "      <td>8412</td>\n",
       "    </tr>\n",
       "    <tr>\n",
       "      <th>19</th>\n",
       "      <td>49235</td>\n",
       "      <td>Organic Half &amp; Half</td>\n",
       "      <td>8389</td>\n",
       "    </tr>\n",
       "  </tbody>\n",
       "</table>\n",
       "</div>"
      ],
      "text/plain": [
       "    product_id              product_name  reorder_count\n",
       "0        24852                    Banana          55763\n",
       "1        13176    Bag of Organic Bananas          44450\n",
       "2        21137      Organic Strawberries          28639\n",
       "3        21903      Organic Baby Spinach          26233\n",
       "4        47209      Organic Hass Avocado          23629\n",
       "5        47766           Organic Avocado          18743\n",
       "6        27845        Organic Whole Milk          16251\n",
       "7        47626               Large Lemon          15044\n",
       "8        27966       Organic Raspberries          14748\n",
       "9        16797              Strawberries          13945\n",
       "10       26209                     Limes          13327\n",
       "11       22935      Organic Yellow Onion          11145\n",
       "12       24964            Organic Garlic          10411\n",
       "13       45007          Organic Zucchini          10076\n",
       "14       49683            Cucumber Kirby           9538\n",
       "15       28204        Organic Fuji Apple           8989\n",
       "16        8277  Apple Honeycrisp Organic           8836\n",
       "17       39275       Organic Blueberries           8799\n",
       "18        5876             Organic Lemon           8412\n",
       "19       49235       Organic Half & Half           8389"
      ]
     },
     "execution_count": 149,
     "metadata": {},
     "output_type": "execute_result"
    }
   ],
   "source": [
    "top_20_reordered = reordered_counts.sort_values(ascending=False).head(20)\n",
    "top_20_reordered = top_20_reordered.reset_index(name='reorder_count')\n",
    "top_20_reordered"
   ]
  },
  {
   "cell_type": "markdown",
   "id": "ce335629",
   "metadata": {},
   "source": [
    "now I sort the products and find the top 20 and reset the index."
   ]
  },
  {
   "cell_type": "markdown",
   "id": "9d312b14",
   "metadata": {},
   "source": [
    "### [C3] For each product, what proportion of its orders are reorders?"
   ]
  },
  {
   "cell_type": "code",
   "execution_count": null,
   "id": "8ae9f4b1",
   "metadata": {},
   "outputs": [],
   "source": []
  },
  {
   "cell_type": "code",
   "execution_count": null,
   "id": "103e7fe1",
   "metadata": {},
   "outputs": [],
   "source": []
  },
  {
   "cell_type": "code",
   "execution_count": null,
   "id": "social-individual",
   "metadata": {},
   "outputs": [],
   "source": []
  },
  {
   "cell_type": "markdown",
   "id": "subject-boxing",
   "metadata": {},
   "source": [
    "### [C4] For each customer, what proportion of their products ordered are reorders?"
   ]
  },
  {
   "cell_type": "code",
   "execution_count": null,
   "id": "medical-couple",
   "metadata": {
    "scrolled": true
   },
   "outputs": [],
   "source": []
  },
  {
   "cell_type": "code",
   "execution_count": null,
   "id": "8892e4b4",
   "metadata": {},
   "outputs": [],
   "source": []
  },
  {
   "cell_type": "markdown",
   "id": "92d35137",
   "metadata": {},
   "source": [
    "### [C5] What are the top 20 items that people put in their carts first? "
   ]
  },
  {
   "cell_type": "code",
   "execution_count": null,
   "id": "0ae57274",
   "metadata": {
    "scrolled": true
   },
   "outputs": [],
   "source": []
  },
  {
   "cell_type": "code",
   "execution_count": null,
   "id": "forty-netherlands",
   "metadata": {
    "scrolled": true
   },
   "outputs": [],
   "source": []
  },
  {
   "cell_type": "code",
   "execution_count": null,
   "id": "08e41ec2",
   "metadata": {},
   "outputs": [],
   "source": []
  },
  {
   "cell_type": "markdown",
   "id": "28ce9872",
   "metadata": {},
   "source": []
  },
  {
   "cell_type": "code",
   "execution_count": null,
   "id": "f4a2af09",
   "metadata": {},
   "outputs": [],
   "source": []
  }
 ],
 "metadata": {
  "ExecuteTimeLog": [
   {
    "duration": 320,
    "start_time": "2024-12-11T22:28:37.744Z"
   },
   {
    "duration": 2,
    "start_time": "2024-12-11T22:28:49.475Z"
   },
   {
    "duration": 198,
    "start_time": "2024-12-11T22:33:18.819Z"
   },
   {
    "duration": 350,
    "start_time": "2024-12-11T22:33:32.213Z"
   },
   {
    "duration": 7,
    "start_time": "2024-12-11T22:36:29.194Z"
   },
   {
    "duration": 58,
    "start_time": "2024-12-11T22:37:30.699Z"
   },
   {
    "duration": 64,
    "start_time": "2024-12-11T22:37:37.310Z"
   },
   {
    "duration": 58,
    "start_time": "2024-12-11T22:37:49.257Z"
   },
   {
    "duration": 63,
    "start_time": "2024-12-11T22:39:08.195Z"
   },
   {
    "duration": 4,
    "start_time": "2024-12-11T22:39:33.311Z"
   },
   {
    "duration": 59,
    "start_time": "2024-12-11T22:41:26.706Z"
   },
   {
    "duration": 282,
    "start_time": "2024-12-11T22:43:23.172Z"
   },
   {
    "duration": 2,
    "start_time": "2024-12-11T22:43:23.591Z"
   },
   {
    "duration": 535,
    "start_time": "2024-12-11T22:43:24.640Z"
   },
   {
    "duration": 5,
    "start_time": "2024-12-11T22:49:16.874Z"
   },
   {
    "duration": 59,
    "start_time": "2024-12-11T22:49:22.746Z"
   },
   {
    "duration": 4,
    "start_time": "2024-12-11T22:50:37.294Z"
   },
   {
    "duration": 274,
    "start_time": "2024-12-12T01:15:41.574Z"
   },
   {
    "duration": 236,
    "start_time": "2024-12-12T01:15:46.757Z"
   },
   {
    "duration": 53,
    "start_time": "2024-12-12T01:16:42.602Z"
   },
   {
    "duration": 10,
    "start_time": "2024-12-12T01:17:23.697Z"
   },
   {
    "duration": 9,
    "start_time": "2024-12-12T01:18:06.879Z"
   },
   {
    "duration": 59,
    "start_time": "2024-12-12T01:18:48.920Z"
   },
   {
    "duration": 1984,
    "start_time": "2024-12-12T01:19:09.168Z"
   },
   {
    "duration": 11,
    "start_time": "2024-12-12T03:27:36.703Z"
   },
   {
    "duration": 108,
    "start_time": "2024-12-12T03:28:38.649Z"
   },
   {
    "duration": 10,
    "start_time": "2024-12-12T03:28:42.240Z"
   },
   {
    "duration": 11,
    "start_time": "2024-12-12T03:32:04.380Z"
   },
   {
    "duration": 9,
    "start_time": "2024-12-12T03:32:22.089Z"
   },
   {
    "duration": 84,
    "start_time": "2024-12-12T03:33:36.372Z"
   },
   {
    "duration": 88,
    "start_time": "2024-12-12T03:33:45.470Z"
   },
   {
    "duration": 131,
    "start_time": "2024-12-12T03:34:25.366Z"
   },
   {
    "duration": 89,
    "start_time": "2024-12-12T03:34:37.028Z"
   },
   {
    "duration": 90,
    "start_time": "2024-12-12T03:35:29.865Z"
   },
   {
    "duration": 19,
    "start_time": "2024-12-12T03:46:15.484Z"
   },
   {
    "duration": 12,
    "start_time": "2024-12-12T03:46:31.204Z"
   },
   {
    "duration": 9,
    "start_time": "2024-12-12T03:46:41.296Z"
   },
   {
    "duration": 13,
    "start_time": "2024-12-12T03:46:55.097Z"
   },
   {
    "duration": 12,
    "start_time": "2024-12-12T03:47:13.874Z"
   },
   {
    "duration": 102,
    "start_time": "2024-12-12T03:50:04.471Z"
   },
   {
    "duration": 93,
    "start_time": "2024-12-12T03:51:52.374Z"
   },
   {
    "duration": 117,
    "start_time": "2024-12-12T03:52:15.110Z"
   },
   {
    "duration": 98,
    "start_time": "2024-12-12T03:52:20.281Z"
   },
   {
    "duration": 101,
    "start_time": "2024-12-12T03:54:10.660Z"
   },
   {
    "duration": 105,
    "start_time": "2024-12-12T03:54:15.250Z"
   },
   {
    "duration": 89,
    "start_time": "2024-12-12T03:54:18.945Z"
   },
   {
    "duration": 33,
    "start_time": "2024-12-12T03:55:53.994Z"
   },
   {
    "duration": 11,
    "start_time": "2024-12-12T04:00:54.710Z"
   },
   {
    "duration": 32,
    "start_time": "2024-12-12T04:01:11.412Z"
   },
   {
    "duration": 10,
    "start_time": "2024-12-12T04:01:14.784Z"
   },
   {
    "duration": 7,
    "start_time": "2024-12-12T04:01:24.305Z"
   },
   {
    "duration": 8,
    "start_time": "2024-12-12T04:01:30.428Z"
   },
   {
    "duration": 12,
    "start_time": "2024-12-12T04:01:51.810Z"
   },
   {
    "duration": 11,
    "start_time": "2024-12-12T04:02:06.650Z"
   },
   {
    "duration": 15,
    "start_time": "2024-12-12T04:04:04.751Z"
   },
   {
    "duration": 9,
    "start_time": "2024-12-12T04:05:14.464Z"
   },
   {
    "duration": 4,
    "start_time": "2024-12-12T04:05:37.962Z"
   },
   {
    "duration": 19,
    "start_time": "2024-12-12T04:10:29.080Z"
   },
   {
    "duration": 9,
    "start_time": "2024-12-12T04:10:49.549Z"
   },
   {
    "duration": 18,
    "start_time": "2024-12-12T04:10:59.895Z"
   },
   {
    "duration": 19,
    "start_time": "2024-12-12T04:16:25.195Z"
   },
   {
    "duration": 10,
    "start_time": "2024-12-12T04:22:28.621Z"
   },
   {
    "duration": 6,
    "start_time": "2024-12-12T04:26:16.893Z"
   },
   {
    "duration": 7,
    "start_time": "2024-12-12T04:26:37.452Z"
   },
   {
    "duration": 6,
    "start_time": "2024-12-12T04:26:40.750Z"
   },
   {
    "duration": 6,
    "start_time": "2024-12-12T04:27:05.276Z"
   },
   {
    "duration": 6,
    "start_time": "2024-12-12T04:27:21.462Z"
   },
   {
    "duration": 8,
    "start_time": "2024-12-12T04:27:25.164Z"
   },
   {
    "duration": 8,
    "start_time": "2024-12-12T04:27:47.322Z"
   },
   {
    "duration": 703,
    "start_time": "2024-12-12T04:28:00.867Z"
   },
   {
    "duration": 11,
    "start_time": "2024-12-12T04:28:05.161Z"
   },
   {
    "duration": 8,
    "start_time": "2024-12-12T04:33:22.069Z"
   },
   {
    "duration": 8,
    "start_time": "2024-12-12T04:33:46.240Z"
   },
   {
    "duration": 9,
    "start_time": "2024-12-12T04:35:14.768Z"
   },
   {
    "duration": 22,
    "start_time": "2024-12-12T04:35:45.328Z"
   },
   {
    "duration": 776,
    "start_time": "2024-12-12T04:36:08.900Z"
   },
   {
    "duration": 11,
    "start_time": "2024-12-12T04:40:48.061Z"
   },
   {
    "duration": 6,
    "start_time": "2024-12-12T04:40:55.170Z"
   },
   {
    "duration": 575,
    "start_time": "2024-12-12T04:42:37.727Z"
   },
   {
    "duration": 608,
    "start_time": "2024-12-12T04:45:03.031Z"
   },
   {
    "duration": 648,
    "start_time": "2024-12-12T04:46:21.254Z"
   },
   {
    "duration": 619,
    "start_time": "2024-12-12T04:47:30.590Z"
   },
   {
    "duration": 52,
    "start_time": "2024-12-12T04:47:38.768Z"
   },
   {
    "duration": 30,
    "start_time": "2024-12-12T04:48:01.862Z"
   },
   {
    "duration": 152,
    "start_time": "2024-12-12T04:48:40.973Z"
   },
   {
    "duration": 608,
    "start_time": "2024-12-12T04:49:08.924Z"
   },
   {
    "duration": 7,
    "start_time": "2024-12-12T04:49:32.348Z"
   },
   {
    "duration": 7,
    "start_time": "2024-12-12T04:50:27.973Z"
   },
   {
    "duration": 7,
    "start_time": "2024-12-12T04:57:02.275Z"
   },
   {
    "duration": 4,
    "start_time": "2024-12-12T05:21:37.298Z"
   },
   {
    "duration": 4,
    "start_time": "2024-12-12T05:22:43.130Z"
   },
   {
    "duration": 4,
    "start_time": "2024-12-12T05:23:59.078Z"
   },
   {
    "duration": 3,
    "start_time": "2024-12-12T05:24:16.619Z"
   },
   {
    "duration": 3,
    "start_time": "2024-12-12T05:26:56.033Z"
   },
   {
    "duration": 4,
    "start_time": "2024-12-12T05:27:12.598Z"
   },
   {
    "duration": 2,
    "start_time": "2024-12-12T05:28:35.732Z"
   },
   {
    "duration": 4,
    "start_time": "2024-12-12T05:28:59.458Z"
   },
   {
    "duration": 3,
    "start_time": "2024-12-12T05:35:21.892Z"
   },
   {
    "duration": 3,
    "start_time": "2024-12-12T05:35:40.013Z"
   },
   {
    "duration": 2,
    "start_time": "2024-12-12T05:38:53.381Z"
   },
   {
    "duration": 4,
    "start_time": "2024-12-12T05:39:25.620Z"
   },
   {
    "duration": 5,
    "start_time": "2024-12-12T05:47:28.372Z"
   },
   {
    "duration": 9,
    "start_time": "2024-12-12T05:47:57.945Z"
   },
   {
    "duration": 398,
    "start_time": "2024-12-12T05:50:24.398Z"
   },
   {
    "duration": 3,
    "start_time": "2024-12-12T05:50:36.802Z"
   },
   {
    "duration": 3,
    "start_time": "2024-12-12T05:50:39.308Z"
   },
   {
    "duration": 4,
    "start_time": "2024-12-12T05:52:21.370Z"
   },
   {
    "duration": 4,
    "start_time": "2024-12-12T05:52:30.521Z"
   },
   {
    "duration": 51,
    "start_time": "2024-12-12T05:59:00.283Z"
   },
   {
    "duration": 8,
    "start_time": "2024-12-12T05:59:20.813Z"
   },
   {
    "duration": 7,
    "start_time": "2024-12-12T06:01:39.543Z"
   },
   {
    "duration": 157,
    "start_time": "2024-12-14T04:31:53.599Z"
   },
   {
    "duration": 344,
    "start_time": "2024-12-14T04:32:21.016Z"
   },
   {
    "duration": 2,
    "start_time": "2024-12-14T04:32:21.362Z"
   },
   {
    "duration": 149,
    "start_time": "2024-12-14T04:32:21.366Z"
   },
   {
    "duration": 58,
    "start_time": "2024-12-14T04:32:21.517Z"
   },
   {
    "duration": 7,
    "start_time": "2024-12-14T04:32:21.578Z"
   },
   {
    "duration": 6,
    "start_time": "2024-12-14T04:32:21.586Z"
   },
   {
    "duration": 841,
    "start_time": "2024-12-14T04:32:21.594Z"
   },
   {
    "duration": 20,
    "start_time": "2024-12-14T04:32:22.437Z"
   },
   {
    "duration": 112,
    "start_time": "2024-12-14T04:32:22.459Z"
   },
   {
    "duration": 12,
    "start_time": "2024-12-14T04:32:22.574Z"
   },
   {
    "duration": 115,
    "start_time": "2024-12-14T04:32:22.587Z"
   },
   {
    "duration": 89,
    "start_time": "2024-12-14T04:32:22.703Z"
   },
   {
    "duration": 41,
    "start_time": "2024-12-14T04:32:22.794Z"
   },
   {
    "duration": 13,
    "start_time": "2024-12-14T04:32:22.839Z"
   },
   {
    "duration": 4,
    "start_time": "2024-12-14T04:32:22.854Z"
   },
   {
    "duration": 19,
    "start_time": "2024-12-14T04:32:22.860Z"
   },
   {
    "duration": 9,
    "start_time": "2024-12-14T04:32:22.905Z"
   },
   {
    "duration": 7,
    "start_time": "2024-12-14T04:32:22.919Z"
   },
   {
    "duration": 6,
    "start_time": "2024-12-14T04:32:22.929Z"
   },
   {
    "duration": 760,
    "start_time": "2024-12-14T04:32:22.937Z"
   },
   {
    "duration": 6,
    "start_time": "2024-12-14T04:32:23.700Z"
   },
   {
    "duration": 676,
    "start_time": "2024-12-14T04:32:23.709Z"
   },
   {
    "duration": 79,
    "start_time": "2024-12-14T04:32:24.387Z"
   },
   {
    "duration": 46,
    "start_time": "2024-12-14T04:32:24.468Z"
   },
   {
    "duration": 6,
    "start_time": "2024-12-14T04:32:24.517Z"
   },
   {
    "duration": 4,
    "start_time": "2024-12-14T04:32:24.524Z"
   },
   {
    "duration": 2,
    "start_time": "2024-12-14T04:32:24.530Z"
   },
   {
    "duration": 3,
    "start_time": "2024-12-14T04:32:24.534Z"
   },
   {
    "duration": 3,
    "start_time": "2024-12-14T04:32:24.539Z"
   },
   {
    "duration": 3,
    "start_time": "2024-12-14T04:32:24.544Z"
   },
   {
    "duration": 3,
    "start_time": "2024-12-14T04:32:24.548Z"
   },
   {
    "duration": 3,
    "start_time": "2024-12-14T04:32:24.553Z"
   },
   {
    "duration": 48,
    "start_time": "2024-12-14T04:32:24.557Z"
   },
   {
    "duration": 6,
    "start_time": "2024-12-14T04:32:24.608Z"
   },
   {
    "duration": 3,
    "start_time": "2024-12-14T04:32:24.616Z"
   },
   {
    "duration": 2,
    "start_time": "2024-12-14T04:32:24.622Z"
   },
   {
    "duration": 3,
    "start_time": "2024-12-14T04:32:24.625Z"
   },
   {
    "duration": 3,
    "start_time": "2024-12-14T04:32:24.629Z"
   },
   {
    "duration": 2,
    "start_time": "2024-12-14T04:32:24.634Z"
   },
   {
    "duration": 3,
    "start_time": "2024-12-14T04:32:27.987Z"
   },
   {
    "duration": 3,
    "start_time": "2024-12-14T04:33:24.649Z"
   },
   {
    "duration": 3,
    "start_time": "2024-12-14T04:38:02.326Z"
   },
   {
    "duration": 3,
    "start_time": "2024-12-14T04:39:43.573Z"
   },
   {
    "duration": 4,
    "start_time": "2024-12-14T04:46:27.912Z"
   },
   {
    "duration": 3,
    "start_time": "2024-12-14T04:54:21.307Z"
   },
   {
    "duration": 8,
    "start_time": "2024-12-14T04:54:41.614Z"
   },
   {
    "duration": 7,
    "start_time": "2024-12-14T05:05:55.347Z"
   },
   {
    "duration": 27,
    "start_time": "2024-12-14T05:23:10.170Z"
   },
   {
    "duration": 50,
    "start_time": "2024-12-14T05:25:20.451Z"
   },
   {
    "duration": 27,
    "start_time": "2024-12-14T05:25:30.047Z"
   },
   {
    "duration": 29,
    "start_time": "2024-12-14T05:26:12.787Z"
   },
   {
    "duration": 95,
    "start_time": "2024-12-14T05:35:23.815Z"
   },
   {
    "duration": 2,
    "start_time": "2024-12-14T05:36:21.932Z"
   },
   {
    "duration": 6,
    "start_time": "2024-12-14T05:36:35.498Z"
   },
   {
    "duration": 12,
    "start_time": "2024-12-14T05:38:50.540Z"
   },
   {
    "duration": 6,
    "start_time": "2024-12-14T05:39:15.545Z"
   },
   {
    "duration": 7,
    "start_time": "2024-12-14T05:39:34.113Z"
   },
   {
    "duration": 6,
    "start_time": "2024-12-14T05:39:46.805Z"
   },
   {
    "duration": 159,
    "start_time": "2024-12-15T07:20:11.646Z"
   },
   {
    "duration": 325,
    "start_time": "2024-12-15T07:20:24.735Z"
   },
   {
    "duration": 3,
    "start_time": "2024-12-15T07:20:25.062Z"
   },
   {
    "duration": 151,
    "start_time": "2024-12-15T07:20:25.067Z"
   },
   {
    "duration": 61,
    "start_time": "2024-12-15T07:20:25.219Z"
   },
   {
    "duration": 7,
    "start_time": "2024-12-15T07:20:25.283Z"
   },
   {
    "duration": 6,
    "start_time": "2024-12-15T07:20:25.293Z"
   },
   {
    "duration": 796,
    "start_time": "2024-12-15T07:20:25.300Z"
   },
   {
    "duration": 17,
    "start_time": "2024-12-15T07:20:26.098Z"
   },
   {
    "duration": 100,
    "start_time": "2024-12-15T07:20:26.117Z"
   },
   {
    "duration": 12,
    "start_time": "2024-12-15T07:20:26.219Z"
   },
   {
    "duration": 112,
    "start_time": "2024-12-15T07:20:26.233Z"
   },
   {
    "duration": 88,
    "start_time": "2024-12-15T07:20:26.347Z"
   },
   {
    "duration": 25,
    "start_time": "2024-12-15T07:20:26.437Z"
   },
   {
    "duration": 12,
    "start_time": "2024-12-15T07:20:26.466Z"
   },
   {
    "duration": 4,
    "start_time": "2024-12-15T07:20:26.479Z"
   },
   {
    "duration": 20,
    "start_time": "2024-12-15T07:20:26.505Z"
   },
   {
    "duration": 7,
    "start_time": "2024-12-15T07:20:26.527Z"
   },
   {
    "duration": 8,
    "start_time": "2024-12-15T07:20:26.536Z"
   },
   {
    "duration": 7,
    "start_time": "2024-12-15T07:20:26.546Z"
   },
   {
    "duration": 761,
    "start_time": "2024-12-15T07:20:26.554Z"
   },
   {
    "duration": 9,
    "start_time": "2024-12-15T07:20:27.317Z"
   },
   {
    "duration": 687,
    "start_time": "2024-12-15T07:20:27.327Z"
   },
   {
    "duration": 71,
    "start_time": "2024-12-15T07:20:28.016Z"
   },
   {
    "duration": 43,
    "start_time": "2024-12-15T07:20:28.089Z"
   },
   {
    "duration": 6,
    "start_time": "2024-12-15T07:20:28.134Z"
   },
   {
    "duration": 5,
    "start_time": "2024-12-15T07:20:28.142Z"
   },
   {
    "duration": 3,
    "start_time": "2024-12-15T07:20:28.148Z"
   },
   {
    "duration": 3,
    "start_time": "2024-12-15T07:20:28.154Z"
   },
   {
    "duration": 4,
    "start_time": "2024-12-15T07:20:28.158Z"
   },
   {
    "duration": 2,
    "start_time": "2024-12-15T07:20:28.164Z"
   },
   {
    "duration": 39,
    "start_time": "2024-12-15T07:20:28.168Z"
   },
   {
    "duration": 4,
    "start_time": "2024-12-15T07:20:28.208Z"
   },
   {
    "duration": 5,
    "start_time": "2024-12-15T07:20:28.213Z"
   },
   {
    "duration": 6,
    "start_time": "2024-12-15T07:20:28.220Z"
   },
   {
    "duration": 3,
    "start_time": "2024-12-15T07:20:28.228Z"
   },
   {
    "duration": 4,
    "start_time": "2024-12-15T07:20:28.232Z"
   },
   {
    "duration": 6,
    "start_time": "2024-12-15T07:20:28.238Z"
   },
   {
    "duration": 6,
    "start_time": "2024-12-15T07:20:28.246Z"
   },
   {
    "duration": 67,
    "start_time": "2024-12-15T07:20:28.254Z"
   },
   {
    "duration": 26,
    "start_time": "2024-12-15T07:20:28.323Z"
   },
   {
    "duration": 10,
    "start_time": "2024-12-15T07:20:28.353Z"
   },
   {
    "duration": 7,
    "start_time": "2024-12-15T07:20:28.365Z"
   },
   {
    "duration": 3,
    "start_time": "2024-12-15T07:20:28.373Z"
   },
   {
    "duration": 7,
    "start_time": "2024-12-15T07:22:15.300Z"
   },
   {
    "duration": 2,
    "start_time": "2024-12-15T07:22:57.770Z"
   },
   {
    "duration": 8,
    "start_time": "2024-12-15T07:25:34.170Z"
   },
   {
    "duration": 11,
    "start_time": "2024-12-15T07:27:56.050Z"
   },
   {
    "duration": 6,
    "start_time": "2024-12-15T07:28:07.682Z"
   },
   {
    "duration": 10,
    "start_time": "2024-12-15T07:28:14.754Z"
   },
   {
    "duration": 4,
    "start_time": "2024-12-15T07:32:17.177Z"
   },
   {
    "duration": 4,
    "start_time": "2024-12-15T07:41:36.642Z"
   },
   {
    "duration": 6,
    "start_time": "2024-12-15T07:44:46.557Z"
   },
   {
    "duration": 4,
    "start_time": "2024-12-15T07:47:52.802Z"
   },
   {
    "duration": 8,
    "start_time": "2024-12-15T07:48:20.469Z"
   },
   {
    "duration": 4,
    "start_time": "2024-12-15T07:48:43.746Z"
   },
   {
    "duration": 4,
    "start_time": "2024-12-15T07:51:13.847Z"
   },
   {
    "duration": 6,
    "start_time": "2024-12-15T07:54:33.640Z"
   },
   {
    "duration": 4,
    "start_time": "2024-12-15T07:55:28.183Z"
   },
   {
    "duration": 5,
    "start_time": "2024-12-15T07:55:44.963Z"
   },
   {
    "duration": 156,
    "start_time": "2024-12-15T17:13:06.075Z"
   },
   {
    "duration": 300,
    "start_time": "2024-12-15T17:13:19.674Z"
   },
   {
    "duration": 2,
    "start_time": "2024-12-15T17:13:19.977Z"
   },
   {
    "duration": 147,
    "start_time": "2024-12-15T17:13:19.981Z"
   },
   {
    "duration": 57,
    "start_time": "2024-12-15T17:13:20.130Z"
   },
   {
    "duration": 6,
    "start_time": "2024-12-15T17:13:20.190Z"
   },
   {
    "duration": 6,
    "start_time": "2024-12-15T17:13:20.198Z"
   },
   {
    "duration": 818,
    "start_time": "2024-12-15T17:13:20.206Z"
   },
   {
    "duration": 15,
    "start_time": "2024-12-15T17:13:21.026Z"
   },
   {
    "duration": 106,
    "start_time": "2024-12-15T17:13:21.042Z"
   },
   {
    "duration": 13,
    "start_time": "2024-12-15T17:13:21.150Z"
   },
   {
    "duration": 118,
    "start_time": "2024-12-15T17:13:21.164Z"
   },
   {
    "duration": 98,
    "start_time": "2024-12-15T17:13:21.284Z"
   },
   {
    "duration": 28,
    "start_time": "2024-12-15T17:13:21.384Z"
   },
   {
    "duration": 13,
    "start_time": "2024-12-15T17:13:21.424Z"
   },
   {
    "duration": 4,
    "start_time": "2024-12-15T17:13:21.438Z"
   },
   {
    "duration": 18,
    "start_time": "2024-12-15T17:13:21.444Z"
   },
   {
    "duration": 7,
    "start_time": "2024-12-15T17:13:21.464Z"
   },
   {
    "duration": 8,
    "start_time": "2024-12-15T17:13:21.473Z"
   },
   {
    "duration": 8,
    "start_time": "2024-12-15T17:13:21.482Z"
   },
   {
    "duration": 799,
    "start_time": "2024-12-15T17:13:21.525Z"
   },
   {
    "duration": 7,
    "start_time": "2024-12-15T17:13:22.326Z"
   },
   {
    "duration": 676,
    "start_time": "2024-12-15T17:13:22.335Z"
   },
   {
    "duration": 82,
    "start_time": "2024-12-15T17:13:23.013Z"
   },
   {
    "duration": 47,
    "start_time": "2024-12-15T17:13:23.097Z"
   },
   {
    "duration": 8,
    "start_time": "2024-12-15T17:13:23.145Z"
   },
   {
    "duration": 4,
    "start_time": "2024-12-15T17:13:23.154Z"
   },
   {
    "duration": 3,
    "start_time": "2024-12-15T17:13:23.160Z"
   },
   {
    "duration": 3,
    "start_time": "2024-12-15T17:13:23.165Z"
   },
   {
    "duration": 4,
    "start_time": "2024-12-15T17:13:23.170Z"
   },
   {
    "duration": 3,
    "start_time": "2024-12-15T17:13:23.177Z"
   },
   {
    "duration": 3,
    "start_time": "2024-12-15T17:13:23.181Z"
   },
   {
    "duration": 39,
    "start_time": "2024-12-15T17:13:23.186Z"
   },
   {
    "duration": 5,
    "start_time": "2024-12-15T17:13:23.227Z"
   },
   {
    "duration": 7,
    "start_time": "2024-12-15T17:13:23.233Z"
   },
   {
    "duration": 3,
    "start_time": "2024-12-15T17:13:23.242Z"
   },
   {
    "duration": 4,
    "start_time": "2024-12-15T17:13:23.247Z"
   },
   {
    "duration": 7,
    "start_time": "2024-12-15T17:13:23.253Z"
   },
   {
    "duration": 7,
    "start_time": "2024-12-15T17:13:23.262Z"
   },
   {
    "duration": 64,
    "start_time": "2024-12-15T17:13:23.270Z"
   },
   {
    "duration": 26,
    "start_time": "2024-12-15T17:13:23.336Z"
   },
   {
    "duration": 11,
    "start_time": "2024-12-15T17:13:23.366Z"
   },
   {
    "duration": 8,
    "start_time": "2024-12-15T17:13:23.378Z"
   },
   {
    "duration": 2,
    "start_time": "2024-12-15T17:13:23.387Z"
   },
   {
    "duration": 5,
    "start_time": "2024-12-15T17:13:23.391Z"
   },
   {
    "duration": 32,
    "start_time": "2024-12-15T17:13:23.398Z"
   },
   {
    "duration": 4,
    "start_time": "2024-12-15T17:13:23.435Z"
   },
   {
    "duration": 7,
    "start_time": "2024-12-15T17:13:23.440Z"
   },
   {
    "duration": 7,
    "start_time": "2024-12-15T17:13:23.448Z"
   },
   {
    "duration": 1851,
    "start_time": "2024-12-15T17:15:59.871Z"
   },
   {
    "duration": 10,
    "start_time": "2024-12-15T17:17:50.005Z"
   },
   {
    "duration": 5,
    "start_time": "2024-12-15T17:18:22.585Z"
   },
   {
    "duration": 10,
    "start_time": "2024-12-15T17:18:34.938Z"
   },
   {
    "duration": 13,
    "start_time": "2024-12-15T17:20:48.412Z"
   },
   {
    "duration": 117,
    "start_time": "2024-12-15T17:23:13.529Z"
   },
   {
    "duration": 12,
    "start_time": "2024-12-15T17:24:01.043Z"
   },
   {
    "duration": 139,
    "start_time": "2024-12-15T17:24:02.628Z"
   },
   {
    "duration": 200,
    "start_time": "2024-12-15T17:25:54.468Z"
   },
   {
    "duration": 9,
    "start_time": "2024-12-15T17:29:51.220Z"
   },
   {
    "duration": 4,
    "start_time": "2024-12-15T17:31:23.852Z"
   },
   {
    "duration": 4,
    "start_time": "2024-12-15T17:31:42.340Z"
   },
   {
    "duration": 7,
    "start_time": "2024-12-15T17:36:26.195Z"
   },
   {
    "duration": 4,
    "start_time": "2024-12-15T17:37:33.520Z"
   },
   {
    "duration": 4,
    "start_time": "2024-12-15T17:38:21.411Z"
   },
   {
    "duration": 307,
    "start_time": "2024-12-15T17:47:01.001Z"
   },
   {
    "duration": 2,
    "start_time": "2024-12-15T17:47:01.310Z"
   },
   {
    "duration": 148,
    "start_time": "2024-12-15T17:47:01.315Z"
   },
   {
    "duration": 60,
    "start_time": "2024-12-15T17:47:01.465Z"
   },
   {
    "duration": 9,
    "start_time": "2024-12-15T17:47:01.528Z"
   },
   {
    "duration": 8,
    "start_time": "2024-12-15T17:47:01.538Z"
   },
   {
    "duration": 911,
    "start_time": "2024-12-15T17:47:01.547Z"
   },
   {
    "duration": 13,
    "start_time": "2024-12-15T17:47:02.461Z"
   },
   {
    "duration": 120,
    "start_time": "2024-12-15T17:47:02.476Z"
   },
   {
    "duration": 13,
    "start_time": "2024-12-15T17:47:02.598Z"
   },
   {
    "duration": 130,
    "start_time": "2024-12-15T17:47:02.612Z"
   },
   {
    "duration": 114,
    "start_time": "2024-12-15T17:47:02.744Z"
   },
   {
    "duration": 27,
    "start_time": "2024-12-15T17:47:02.860Z"
   },
   {
    "duration": 12,
    "start_time": "2024-12-15T17:47:02.891Z"
   },
   {
    "duration": 3,
    "start_time": "2024-12-15T17:47:02.905Z"
   },
   {
    "duration": 45,
    "start_time": "2024-12-15T17:47:02.910Z"
   },
   {
    "duration": 10,
    "start_time": "2024-12-15T17:47:02.957Z"
   },
   {
    "duration": 11,
    "start_time": "2024-12-15T17:47:02.969Z"
   },
   {
    "duration": 15,
    "start_time": "2024-12-15T17:47:02.983Z"
   },
   {
    "duration": 845,
    "start_time": "2024-12-15T17:47:03.000Z"
   },
   {
    "duration": 7,
    "start_time": "2024-12-15T17:47:03.846Z"
   },
   {
    "duration": 707,
    "start_time": "2024-12-15T17:47:03.855Z"
   },
   {
    "duration": 89,
    "start_time": "2024-12-15T17:47:04.564Z"
   },
   {
    "duration": 39,
    "start_time": "2024-12-15T17:47:04.655Z"
   },
   {
    "duration": 7,
    "start_time": "2024-12-15T17:47:04.696Z"
   },
   {
    "duration": 5,
    "start_time": "2024-12-15T17:47:04.705Z"
   },
   {
    "duration": 3,
    "start_time": "2024-12-15T17:47:04.712Z"
   },
   {
    "duration": 3,
    "start_time": "2024-12-15T17:47:04.717Z"
   },
   {
    "duration": 4,
    "start_time": "2024-12-15T17:47:04.744Z"
   },
   {
    "duration": 3,
    "start_time": "2024-12-15T17:47:04.749Z"
   },
   {
    "duration": 3,
    "start_time": "2024-12-15T17:47:04.753Z"
   },
   {
    "duration": 4,
    "start_time": "2024-12-15T17:47:04.758Z"
   },
   {
    "duration": 6,
    "start_time": "2024-12-15T17:47:04.763Z"
   },
   {
    "duration": 9,
    "start_time": "2024-12-15T17:47:04.772Z"
   },
   {
    "duration": 4,
    "start_time": "2024-12-15T17:47:04.783Z"
   },
   {
    "duration": 5,
    "start_time": "2024-12-15T17:47:04.789Z"
   },
   {
    "duration": 57,
    "start_time": "2024-12-15T17:47:04.795Z"
   },
   {
    "duration": 9,
    "start_time": "2024-12-15T17:47:04.855Z"
   },
   {
    "duration": 45,
    "start_time": "2024-12-15T17:47:04.868Z"
   },
   {
    "duration": 50,
    "start_time": "2024-12-15T17:47:04.915Z"
   },
   {
    "duration": 11,
    "start_time": "2024-12-15T17:47:04.970Z"
   },
   {
    "duration": 7,
    "start_time": "2024-12-15T17:47:04.984Z"
   },
   {
    "duration": 2,
    "start_time": "2024-12-15T17:47:04.993Z"
   },
   {
    "duration": 6,
    "start_time": "2024-12-15T17:47:04.997Z"
   },
   {
    "duration": 4,
    "start_time": "2024-12-15T17:47:05.004Z"
   },
   {
    "duration": 34,
    "start_time": "2024-12-15T17:47:05.009Z"
   },
   {
    "duration": 5,
    "start_time": "2024-12-15T17:47:05.045Z"
   },
   {
    "duration": 1852,
    "start_time": "2024-12-15T17:47:05.052Z"
   },
   {
    "duration": 145,
    "start_time": "2024-12-15T17:47:06.906Z"
   },
   {
    "duration": 235,
    "start_time": "2024-12-15T17:47:07.052Z"
   },
   {
    "duration": 4,
    "start_time": "2024-12-15T17:47:07.289Z"
   },
   {
    "duration": 318,
    "start_time": "2024-12-15T20:44:23.995Z"
   },
   {
    "duration": 3,
    "start_time": "2024-12-15T20:44:24.315Z"
   },
   {
    "duration": 133,
    "start_time": "2024-12-15T20:44:24.319Z"
   },
   {
    "duration": 49,
    "start_time": "2024-12-15T20:44:24.454Z"
   },
   {
    "duration": 6,
    "start_time": "2024-12-15T20:44:24.506Z"
   },
   {
    "duration": 4,
    "start_time": "2024-12-15T20:44:24.514Z"
   },
   {
    "duration": 751,
    "start_time": "2024-12-15T20:44:24.520Z"
   },
   {
    "duration": 16,
    "start_time": "2024-12-15T20:44:25.273Z"
   },
   {
    "duration": 115,
    "start_time": "2024-12-15T20:44:25.290Z"
   },
   {
    "duration": 14,
    "start_time": "2024-12-15T20:44:25.407Z"
   },
   {
    "duration": 119,
    "start_time": "2024-12-15T20:44:25.423Z"
   },
   {
    "duration": 100,
    "start_time": "2024-12-15T20:44:25.545Z"
   },
   {
    "duration": 38,
    "start_time": "2024-12-15T20:44:25.648Z"
   },
   {
    "duration": 14,
    "start_time": "2024-12-15T20:44:25.691Z"
   },
   {
    "duration": 4,
    "start_time": "2024-12-15T20:44:25.706Z"
   },
   {
    "duration": 38,
    "start_time": "2024-12-15T20:44:25.712Z"
   },
   {
    "duration": 9,
    "start_time": "2024-12-15T20:44:25.752Z"
   },
   {
    "duration": 8,
    "start_time": "2024-12-15T20:44:25.763Z"
   },
   {
    "duration": 8,
    "start_time": "2024-12-15T20:44:25.773Z"
   },
   {
    "duration": 840,
    "start_time": "2024-12-15T20:44:25.782Z"
   },
   {
    "duration": 9,
    "start_time": "2024-12-15T20:44:26.624Z"
   },
   {
    "duration": 956,
    "start_time": "2024-12-15T20:44:26.636Z"
   },
   {
    "duration": 88,
    "start_time": "2024-12-15T20:44:27.596Z"
   },
   {
    "duration": 36,
    "start_time": "2024-12-15T20:44:27.686Z"
   },
   {
    "duration": 20,
    "start_time": "2024-12-15T20:44:27.724Z"
   },
   {
    "duration": 4,
    "start_time": "2024-12-15T20:44:27.746Z"
   },
   {
    "duration": 3,
    "start_time": "2024-12-15T20:44:27.752Z"
   },
   {
    "duration": 3,
    "start_time": "2024-12-15T20:44:27.756Z"
   },
   {
    "duration": 5,
    "start_time": "2024-12-15T20:44:27.760Z"
   },
   {
    "duration": 3,
    "start_time": "2024-12-15T20:44:27.766Z"
   },
   {
    "duration": 3,
    "start_time": "2024-12-15T20:44:27.770Z"
   },
   {
    "duration": 5,
    "start_time": "2024-12-15T20:44:27.774Z"
   },
   {
    "duration": 7,
    "start_time": "2024-12-15T20:44:27.780Z"
   },
   {
    "duration": 8,
    "start_time": "2024-12-15T20:44:27.788Z"
   },
   {
    "duration": 49,
    "start_time": "2024-12-15T20:44:27.797Z"
   },
   {
    "duration": 5,
    "start_time": "2024-12-15T20:44:27.855Z"
   },
   {
    "duration": 9,
    "start_time": "2024-12-15T20:44:27.861Z"
   },
   {
    "duration": 11,
    "start_time": "2024-12-15T20:44:27.872Z"
   },
   {
    "duration": 59,
    "start_time": "2024-12-15T20:44:27.885Z"
   },
   {
    "duration": 39,
    "start_time": "2024-12-15T20:44:27.946Z"
   },
   {
    "duration": 15,
    "start_time": "2024-12-15T20:44:27.992Z"
   },
   {
    "duration": 9,
    "start_time": "2024-12-15T20:44:28.010Z"
   },
   {
    "duration": 6,
    "start_time": "2024-12-15T20:44:28.021Z"
   },
   {
    "duration": 7,
    "start_time": "2024-12-15T20:44:28.044Z"
   },
   {
    "duration": 8,
    "start_time": "2024-12-15T20:44:28.052Z"
   },
   {
    "duration": 4,
    "start_time": "2024-12-15T20:44:28.066Z"
   },
   {
    "duration": 9,
    "start_time": "2024-12-15T20:44:28.073Z"
   },
   {
    "duration": 169,
    "start_time": "2024-12-15T20:44:28.084Z"
   },
   {
    "duration": 177,
    "start_time": "2024-12-15T20:44:28.255Z"
   },
   {
    "duration": 265,
    "start_time": "2024-12-15T20:44:28.434Z"
   },
   {
    "duration": 5,
    "start_time": "2024-12-15T20:44:28.701Z"
   },
   {
    "duration": 8,
    "start_time": "2024-12-15T20:46:51.076Z"
   },
   {
    "duration": 156,
    "start_time": "2024-12-17T00:00:47.232Z"
   },
   {
    "duration": 318,
    "start_time": "2024-12-17T00:01:25.253Z"
   },
   {
    "duration": 2,
    "start_time": "2024-12-17T00:01:25.573Z"
   },
   {
    "duration": 147,
    "start_time": "2024-12-17T00:01:25.577Z"
   },
   {
    "duration": 57,
    "start_time": "2024-12-17T00:01:25.726Z"
   },
   {
    "duration": 7,
    "start_time": "2024-12-17T00:01:25.785Z"
   },
   {
    "duration": 7,
    "start_time": "2024-12-17T00:01:25.793Z"
   },
   {
    "duration": 794,
    "start_time": "2024-12-17T00:01:25.801Z"
   },
   {
    "duration": 14,
    "start_time": "2024-12-17T00:01:26.597Z"
   },
   {
    "duration": 104,
    "start_time": "2024-12-17T00:01:26.613Z"
   },
   {
    "duration": 13,
    "start_time": "2024-12-17T00:01:26.724Z"
   },
   {
    "duration": 114,
    "start_time": "2024-12-17T00:01:26.738Z"
   },
   {
    "duration": 89,
    "start_time": "2024-12-17T00:01:26.854Z"
   },
   {
    "duration": 30,
    "start_time": "2024-12-17T00:01:26.945Z"
   },
   {
    "duration": 13,
    "start_time": "2024-12-17T00:01:26.977Z"
   },
   {
    "duration": 4,
    "start_time": "2024-12-17T00:01:26.992Z"
   },
   {
    "duration": 43,
    "start_time": "2024-12-17T00:01:26.997Z"
   },
   {
    "duration": 8,
    "start_time": "2024-12-17T00:01:27.041Z"
   },
   {
    "duration": 8,
    "start_time": "2024-12-17T00:01:27.051Z"
   },
   {
    "duration": 7,
    "start_time": "2024-12-17T00:01:27.062Z"
   },
   {
    "duration": 802,
    "start_time": "2024-12-17T00:01:27.071Z"
   },
   {
    "duration": 7,
    "start_time": "2024-12-17T00:01:27.875Z"
   },
   {
    "duration": 719,
    "start_time": "2024-12-17T00:01:27.883Z"
   },
   {
    "duration": 87,
    "start_time": "2024-12-17T00:01:28.604Z"
   },
   {
    "duration": 47,
    "start_time": "2024-12-17T00:01:28.693Z"
   },
   {
    "duration": 6,
    "start_time": "2024-12-17T00:01:28.742Z"
   },
   {
    "duration": 3,
    "start_time": "2024-12-17T00:01:28.750Z"
   },
   {
    "duration": 3,
    "start_time": "2024-12-17T00:01:28.755Z"
   },
   {
    "duration": 2,
    "start_time": "2024-12-17T00:01:28.762Z"
   },
   {
    "duration": 3,
    "start_time": "2024-12-17T00:01:28.766Z"
   },
   {
    "duration": 2,
    "start_time": "2024-12-17T00:01:28.772Z"
   },
   {
    "duration": 2,
    "start_time": "2024-12-17T00:01:28.776Z"
   },
   {
    "duration": 4,
    "start_time": "2024-12-17T00:01:28.780Z"
   },
   {
    "duration": 42,
    "start_time": "2024-12-17T00:01:28.785Z"
   },
   {
    "duration": 7,
    "start_time": "2024-12-17T00:01:28.828Z"
   },
   {
    "duration": 4,
    "start_time": "2024-12-17T00:01:28.836Z"
   },
   {
    "duration": 4,
    "start_time": "2024-12-17T00:01:28.842Z"
   },
   {
    "duration": 6,
    "start_time": "2024-12-17T00:01:28.848Z"
   },
   {
    "duration": 6,
    "start_time": "2024-12-17T00:01:28.856Z"
   },
   {
    "duration": 62,
    "start_time": "2024-12-17T00:01:28.864Z"
   },
   {
    "duration": 27,
    "start_time": "2024-12-17T00:01:28.928Z"
   },
   {
    "duration": 11,
    "start_time": "2024-12-17T00:01:28.956Z"
   },
   {
    "duration": 7,
    "start_time": "2024-12-17T00:01:28.969Z"
   },
   {
    "duration": 3,
    "start_time": "2024-12-17T00:01:28.977Z"
   },
   {
    "duration": 5,
    "start_time": "2024-12-17T00:01:28.982Z"
   },
   {
    "duration": 37,
    "start_time": "2024-12-17T00:01:28.989Z"
   },
   {
    "duration": 4,
    "start_time": "2024-12-17T00:01:29.028Z"
   },
   {
    "duration": 5,
    "start_time": "2024-12-17T00:01:29.034Z"
   },
   {
    "duration": 1855,
    "start_time": "2024-12-17T00:01:29.041Z"
   },
   {
    "duration": 128,
    "start_time": "2024-12-17T00:01:30.897Z"
   },
   {
    "duration": 255,
    "start_time": "2024-12-17T00:01:31.027Z"
   },
   {
    "duration": 4,
    "start_time": "2024-12-17T00:01:31.286Z"
   },
   {
    "duration": 101,
    "start_time": "2024-12-17T00:01:39.119Z"
   },
   {
    "duration": 7,
    "start_time": "2024-12-17T00:03:03.822Z"
   },
   {
    "duration": 7,
    "start_time": "2024-12-17T00:03:16.054Z"
   },
   {
    "duration": 281,
    "start_time": "2024-12-17T00:04:59.836Z"
   },
   {
    "duration": 473,
    "start_time": "2024-12-17T00:06:20.037Z"
   },
   {
    "duration": 25,
    "start_time": "2024-12-17T00:06:36.201Z"
   },
   {
    "duration": 659,
    "start_time": "2024-12-17T00:14:41.703Z"
   },
   {
    "duration": 717,
    "start_time": "2024-12-17T00:15:56.894Z"
   },
   {
    "duration": 142,
    "start_time": "2024-12-17T00:16:28.145Z"
   },
   {
    "duration": 8,
    "start_time": "2024-12-17T00:18:38.397Z"
   },
   {
    "duration": 5,
    "start_time": "2024-12-17T00:19:24.792Z"
   },
   {
    "duration": 5,
    "start_time": "2024-12-17T00:19:32.030Z"
   },
   {
    "duration": 6,
    "start_time": "2024-12-17T00:19:47.461Z"
   },
   {
    "duration": 5,
    "start_time": "2024-12-17T00:20:25.789Z"
   },
   {
    "duration": 5,
    "start_time": "2024-12-17T00:20:35.517Z"
   },
   {
    "duration": 6,
    "start_time": "2024-12-17T00:20:41.194Z"
   },
   {
    "duration": 6,
    "start_time": "2024-12-17T00:20:47.830Z"
   },
   {
    "duration": 150,
    "start_time": "2024-12-17T00:20:55.198Z"
   },
   {
    "duration": 7,
    "start_time": "2024-12-17T00:21:54.890Z"
   },
   {
    "duration": 183,
    "start_time": "2024-12-17T00:21:57.277Z"
   },
   {
    "duration": 302,
    "start_time": "2024-12-17T00:22:11.951Z"
   },
   {
    "duration": 3,
    "start_time": "2024-12-17T00:22:12.255Z"
   },
   {
    "duration": 133,
    "start_time": "2024-12-17T00:22:12.259Z"
   },
   {
    "duration": 41,
    "start_time": "2024-12-17T00:22:12.395Z"
   },
   {
    "duration": 6,
    "start_time": "2024-12-17T00:22:12.437Z"
   },
   {
    "duration": 5,
    "start_time": "2024-12-17T00:22:12.445Z"
   },
   {
    "duration": 736,
    "start_time": "2024-12-17T00:22:12.451Z"
   },
   {
    "duration": 14,
    "start_time": "2024-12-17T00:22:13.189Z"
   },
   {
    "duration": 112,
    "start_time": "2024-12-17T00:22:13.205Z"
   },
   {
    "duration": 12,
    "start_time": "2024-12-17T00:22:13.324Z"
   },
   {
    "duration": 114,
    "start_time": "2024-12-17T00:22:13.338Z"
   },
   {
    "duration": 93,
    "start_time": "2024-12-17T00:22:13.453Z"
   },
   {
    "duration": 29,
    "start_time": "2024-12-17T00:22:13.547Z"
   },
   {
    "duration": 14,
    "start_time": "2024-12-17T00:22:13.577Z"
   },
   {
    "duration": 4,
    "start_time": "2024-12-17T00:22:13.592Z"
   },
   {
    "duration": 44,
    "start_time": "2024-12-17T00:22:13.598Z"
   },
   {
    "duration": 8,
    "start_time": "2024-12-17T00:22:13.644Z"
   },
   {
    "duration": 8,
    "start_time": "2024-12-17T00:22:13.654Z"
   },
   {
    "duration": 7,
    "start_time": "2024-12-17T00:22:13.664Z"
   },
   {
    "duration": 797,
    "start_time": "2024-12-17T00:22:13.673Z"
   },
   {
    "duration": 6,
    "start_time": "2024-12-17T00:22:14.472Z"
   },
   {
    "duration": 666,
    "start_time": "2024-12-17T00:22:14.480Z"
   },
   {
    "duration": 113,
    "start_time": "2024-12-17T00:22:15.148Z"
   },
   {
    "duration": 36,
    "start_time": "2024-12-17T00:22:15.263Z"
   },
   {
    "duration": 6,
    "start_time": "2024-12-17T00:22:15.301Z"
   },
   {
    "duration": 4,
    "start_time": "2024-12-17T00:22:15.324Z"
   },
   {
    "duration": 3,
    "start_time": "2024-12-17T00:22:15.330Z"
   },
   {
    "duration": 2,
    "start_time": "2024-12-17T00:22:15.337Z"
   },
   {
    "duration": 4,
    "start_time": "2024-12-17T00:22:15.341Z"
   },
   {
    "duration": 3,
    "start_time": "2024-12-17T00:22:15.347Z"
   },
   {
    "duration": 2,
    "start_time": "2024-12-17T00:22:15.352Z"
   },
   {
    "duration": 4,
    "start_time": "2024-12-17T00:22:15.356Z"
   },
   {
    "duration": 5,
    "start_time": "2024-12-17T00:22:15.362Z"
   },
   {
    "duration": 7,
    "start_time": "2024-12-17T00:22:15.368Z"
   },
   {
    "duration": 4,
    "start_time": "2024-12-17T00:22:15.376Z"
   },
   {
    "duration": 4,
    "start_time": "2024-12-17T00:22:15.424Z"
   },
   {
    "duration": 7,
    "start_time": "2024-12-17T00:22:15.430Z"
   },
   {
    "duration": 6,
    "start_time": "2024-12-17T00:22:15.438Z"
   },
   {
    "duration": 27,
    "start_time": "2024-12-17T00:22:15.446Z"
   },
   {
    "duration": 54,
    "start_time": "2024-12-17T00:22:15.475Z"
   },
   {
    "duration": 10,
    "start_time": "2024-12-17T00:22:15.531Z"
   },
   {
    "duration": 8,
    "start_time": "2024-12-17T00:22:15.543Z"
   },
   {
    "duration": 512,
    "start_time": "2024-12-17T00:22:15.553Z"
   },
   {
    "duration": 5,
    "start_time": "2024-12-17T00:22:16.069Z"
   },
   {
    "duration": 185,
    "start_time": "2024-12-17T00:22:16.076Z"
   },
   {
    "duration": 0,
    "start_time": "2024-12-17T00:22:16.263Z"
   },
   {
    "duration": 0,
    "start_time": "2024-12-17T00:22:16.265Z"
   },
   {
    "duration": 0,
    "start_time": "2024-12-17T00:22:16.265Z"
   },
   {
    "duration": 0,
    "start_time": "2024-12-17T00:22:16.266Z"
   },
   {
    "duration": 0,
    "start_time": "2024-12-17T00:22:16.267Z"
   },
   {
    "duration": 0,
    "start_time": "2024-12-17T00:22:16.269Z"
   },
   {
    "duration": 0,
    "start_time": "2024-12-17T00:22:16.270Z"
   },
   {
    "duration": 325,
    "start_time": "2024-12-17T00:22:27.380Z"
   },
   {
    "duration": 148,
    "start_time": "2024-12-17T00:25:03.082Z"
   },
   {
    "duration": 144,
    "start_time": "2024-12-17T00:26:46.899Z"
   },
   {
    "duration": 152,
    "start_time": "2024-12-17T00:27:15.003Z"
   },
   {
    "duration": 5,
    "start_time": "2024-12-17T00:30:32.561Z"
   },
   {
    "duration": 4,
    "start_time": "2024-12-17T00:30:44.270Z"
   },
   {
    "duration": 3,
    "start_time": "2024-12-17T00:30:48.722Z"
   },
   {
    "duration": 145,
    "start_time": "2024-12-17T00:31:03.428Z"
   },
   {
    "duration": 142,
    "start_time": "2024-12-17T00:31:11.846Z"
   },
   {
    "duration": 191,
    "start_time": "2024-12-17T00:31:19.845Z"
   },
   {
    "duration": 146,
    "start_time": "2024-12-17T00:31:24.734Z"
   },
   {
    "duration": 4,
    "start_time": "2024-12-17T00:31:39.333Z"
   },
   {
    "duration": 5,
    "start_time": "2024-12-17T00:31:54.923Z"
   },
   {
    "duration": 7,
    "start_time": "2024-12-17T00:32:00.634Z"
   },
   {
    "duration": 4,
    "start_time": "2024-12-17T00:32:08.264Z"
   },
   {
    "duration": 3,
    "start_time": "2024-12-17T00:32:13.767Z"
   },
   {
    "duration": 5,
    "start_time": "2024-12-17T00:32:20.427Z"
   },
   {
    "duration": 4,
    "start_time": "2024-12-17T00:32:32.121Z"
   },
   {
    "duration": 4,
    "start_time": "2024-12-17T00:32:37.553Z"
   },
   {
    "duration": 4,
    "start_time": "2024-12-17T00:32:44.449Z"
   },
   {
    "duration": 180,
    "start_time": "2024-12-17T00:34:09.250Z"
   },
   {
    "duration": 2,
    "start_time": "2024-12-17T00:35:10.646Z"
   },
   {
    "duration": 304,
    "start_time": "2024-12-17T00:35:17.895Z"
   },
   {
    "duration": 2,
    "start_time": "2024-12-17T00:35:18.201Z"
   },
   {
    "duration": 143,
    "start_time": "2024-12-17T00:35:18.205Z"
   },
   {
    "duration": 160,
    "start_time": "2024-12-17T00:35:18.350Z"
   },
   {
    "duration": 56,
    "start_time": "2024-12-17T00:35:18.513Z"
   },
   {
    "duration": 7,
    "start_time": "2024-12-17T00:35:18.571Z"
   },
   {
    "duration": 7,
    "start_time": "2024-12-17T00:35:18.579Z"
   },
   {
    "duration": 798,
    "start_time": "2024-12-17T00:35:18.590Z"
   },
   {
    "duration": 112,
    "start_time": "2024-12-17T00:35:19.390Z"
   },
   {
    "duration": 24,
    "start_time": "2024-12-17T00:35:19.505Z"
   },
   {
    "duration": 120,
    "start_time": "2024-12-17T00:35:19.530Z"
   },
   {
    "duration": 95,
    "start_time": "2024-12-17T00:35:19.652Z"
   },
   {
    "duration": 29,
    "start_time": "2024-12-17T00:35:19.749Z"
   },
   {
    "duration": 20,
    "start_time": "2024-12-17T00:35:19.784Z"
   },
   {
    "duration": 20,
    "start_time": "2024-12-17T00:35:19.806Z"
   },
   {
    "duration": 20,
    "start_time": "2024-12-17T00:35:19.829Z"
   },
   {
    "duration": 10,
    "start_time": "2024-12-17T00:35:19.851Z"
   },
   {
    "duration": 9,
    "start_time": "2024-12-17T00:35:19.863Z"
   },
   {
    "duration": 8,
    "start_time": "2024-12-17T00:35:19.873Z"
   },
   {
    "duration": 860,
    "start_time": "2024-12-17T00:35:19.882Z"
   },
   {
    "duration": 9,
    "start_time": "2024-12-17T00:35:20.744Z"
   },
   {
    "duration": 793,
    "start_time": "2024-12-17T00:35:20.755Z"
   },
   {
    "duration": 137,
    "start_time": "2024-12-17T00:35:21.551Z"
   },
   {
    "duration": 44,
    "start_time": "2024-12-17T00:35:21.691Z"
   },
   {
    "duration": 6,
    "start_time": "2024-12-17T00:35:21.736Z"
   },
   {
    "duration": 4,
    "start_time": "2024-12-17T00:35:21.744Z"
   },
   {
    "duration": 3,
    "start_time": "2024-12-17T00:35:21.750Z"
   },
   {
    "duration": 3,
    "start_time": "2024-12-17T00:35:21.755Z"
   },
   {
    "duration": 4,
    "start_time": "2024-12-17T00:35:21.759Z"
   },
   {
    "duration": 3,
    "start_time": "2024-12-17T00:35:21.764Z"
   },
   {
    "duration": 2,
    "start_time": "2024-12-17T00:35:21.769Z"
   },
   {
    "duration": 4,
    "start_time": "2024-12-17T00:35:21.773Z"
   },
   {
    "duration": 51,
    "start_time": "2024-12-17T00:35:21.778Z"
   },
   {
    "duration": 9,
    "start_time": "2024-12-17T00:35:21.831Z"
   },
   {
    "duration": 4,
    "start_time": "2024-12-17T00:35:21.841Z"
   },
   {
    "duration": 5,
    "start_time": "2024-12-17T00:35:21.846Z"
   },
   {
    "duration": 8,
    "start_time": "2024-12-17T00:35:21.852Z"
   },
   {
    "duration": 6,
    "start_time": "2024-12-17T00:35:21.862Z"
   },
   {
    "duration": 69,
    "start_time": "2024-12-17T00:35:21.871Z"
   },
   {
    "duration": 26,
    "start_time": "2024-12-17T00:35:21.942Z"
   },
   {
    "duration": 10,
    "start_time": "2024-12-17T00:35:21.974Z"
   },
   {
    "duration": 8,
    "start_time": "2024-12-17T00:35:21.986Z"
   },
   {
    "duration": 539,
    "start_time": "2024-12-17T00:35:21.996Z"
   },
   {
    "duration": 6,
    "start_time": "2024-12-17T00:35:22.536Z"
   },
   {
    "duration": 181,
    "start_time": "2024-12-17T00:35:22.543Z"
   },
   {
    "duration": 166,
    "start_time": "2024-12-17T00:35:22.726Z"
   },
   {
    "duration": 5,
    "start_time": "2024-12-17T00:35:22.894Z"
   },
   {
    "duration": 163,
    "start_time": "2024-12-17T00:35:22.901Z"
   },
   {
    "duration": 6,
    "start_time": "2024-12-17T00:35:23.066Z"
   },
   {
    "duration": 211,
    "start_time": "2024-12-17T00:35:23.074Z"
   },
   {
    "duration": 7,
    "start_time": "2024-12-17T00:35:23.287Z"
   },
   {
    "duration": 181,
    "start_time": "2024-12-17T00:35:23.295Z"
   },
   {
    "duration": 15,
    "start_time": "2024-12-17T00:35:23.478Z"
   },
   {
    "duration": 133,
    "start_time": "2024-12-17T00:35:23.495Z"
   },
   {
    "duration": 244,
    "start_time": "2024-12-17T00:35:23.630Z"
   },
   {
    "duration": 5,
    "start_time": "2024-12-17T00:35:23.876Z"
   },
   {
    "duration": 16,
    "start_time": "2024-12-17T00:36:30.684Z"
   },
   {
    "duration": 166,
    "start_time": "2024-12-17T00:51:16.882Z"
   },
   {
    "duration": 241,
    "start_time": "2024-12-17T00:57:54.096Z"
   },
   {
    "duration": 193,
    "start_time": "2024-12-17T00:58:57.504Z"
   },
   {
    "duration": 661,
    "start_time": "2024-12-17T01:09:31.309Z"
   },
   {
    "duration": 345,
    "start_time": "2024-12-17T01:10:39.549Z"
   },
   {
    "duration": 8,
    "start_time": "2024-12-17T01:11:30.982Z"
   },
   {
    "duration": 431,
    "start_time": "2024-12-17T01:13:25.722Z"
   },
   {
    "duration": 9,
    "start_time": "2024-12-17T01:13:29.426Z"
   },
   {
    "duration": 239,
    "start_time": "2024-12-17T01:52:48.388Z"
   },
   {
    "duration": 11,
    "start_time": "2024-12-17T01:54:45.816Z"
   },
   {
    "duration": 314,
    "start_time": "2024-12-17T01:58:24.802Z"
   },
   {
    "duration": 11,
    "start_time": "2024-12-17T02:01:53.125Z"
   },
   {
    "duration": 144,
    "start_time": "2024-12-17T02:03:47.827Z"
   },
   {
    "duration": 274,
    "start_time": "2024-12-17T02:05:12.471Z"
   },
   {
    "duration": 6,
    "start_time": "2024-12-17T02:06:22.613Z"
   },
   {
    "duration": 6,
    "start_time": "2024-12-17T02:07:25.856Z"
   },
   {
    "duration": 10,
    "start_time": "2024-12-17T02:07:53.163Z"
   },
   {
    "duration": 291,
    "start_time": "2024-12-17T18:51:39.847Z"
   },
   {
    "duration": 3,
    "start_time": "2024-12-17T18:51:40.140Z"
   },
   {
    "duration": 1889,
    "start_time": "2024-12-17T18:51:40.144Z"
   },
   {
    "duration": 146,
    "start_time": "2024-12-17T18:51:42.035Z"
   },
   {
    "duration": 72,
    "start_time": "2024-12-17T18:51:42.183Z"
   },
   {
    "duration": 7,
    "start_time": "2024-12-17T18:51:42.256Z"
   },
   {
    "duration": 6,
    "start_time": "2024-12-17T18:51:42.265Z"
   },
   {
    "duration": 897,
    "start_time": "2024-12-17T18:51:42.273Z"
   },
   {
    "duration": 134,
    "start_time": "2024-12-17T18:51:43.172Z"
   },
   {
    "duration": 18,
    "start_time": "2024-12-17T18:51:43.310Z"
   },
   {
    "duration": 118,
    "start_time": "2024-12-17T18:51:43.330Z"
   },
   {
    "duration": 89,
    "start_time": "2024-12-17T18:51:43.449Z"
   },
   {
    "duration": 28,
    "start_time": "2024-12-17T18:51:43.540Z"
   },
   {
    "duration": 13,
    "start_time": "2024-12-17T18:51:43.570Z"
   },
   {
    "duration": 21,
    "start_time": "2024-12-17T18:51:43.585Z"
   },
   {
    "duration": 20,
    "start_time": "2024-12-17T18:51:43.608Z"
   },
   {
    "duration": 8,
    "start_time": "2024-12-17T18:51:43.630Z"
   },
   {
    "duration": 8,
    "start_time": "2024-12-17T18:51:43.640Z"
   },
   {
    "duration": 7,
    "start_time": "2024-12-17T18:51:43.650Z"
   },
   {
    "duration": 831,
    "start_time": "2024-12-17T18:51:43.659Z"
   },
   {
    "duration": 14,
    "start_time": "2024-12-17T18:51:44.492Z"
   },
   {
    "duration": 686,
    "start_time": "2024-12-17T18:51:44.507Z"
   },
   {
    "duration": 81,
    "start_time": "2024-12-17T18:51:45.195Z"
   },
   {
    "duration": 47,
    "start_time": "2024-12-17T18:51:45.278Z"
   },
   {
    "duration": 5,
    "start_time": "2024-12-17T18:51:45.327Z"
   },
   {
    "duration": 6,
    "start_time": "2024-12-17T18:51:45.334Z"
   },
   {
    "duration": 4,
    "start_time": "2024-12-17T18:51:45.342Z"
   },
   {
    "duration": 3,
    "start_time": "2024-12-17T18:51:45.351Z"
   },
   {
    "duration": 5,
    "start_time": "2024-12-17T18:51:45.355Z"
   },
   {
    "duration": 2,
    "start_time": "2024-12-17T18:51:45.362Z"
   },
   {
    "duration": 3,
    "start_time": "2024-12-17T18:51:45.366Z"
   },
   {
    "duration": 34,
    "start_time": "2024-12-17T18:51:45.372Z"
   },
   {
    "duration": 5,
    "start_time": "2024-12-17T18:51:45.407Z"
   },
   {
    "duration": 10,
    "start_time": "2024-12-17T18:51:45.414Z"
   },
   {
    "duration": 4,
    "start_time": "2024-12-17T18:51:45.425Z"
   },
   {
    "duration": 4,
    "start_time": "2024-12-17T18:51:45.431Z"
   },
   {
    "duration": 7,
    "start_time": "2024-12-17T18:51:45.437Z"
   },
   {
    "duration": 7,
    "start_time": "2024-12-17T18:51:45.445Z"
   },
   {
    "duration": 62,
    "start_time": "2024-12-17T18:51:45.455Z"
   },
   {
    "duration": 27,
    "start_time": "2024-12-17T18:51:45.519Z"
   },
   {
    "duration": 10,
    "start_time": "2024-12-17T18:51:45.548Z"
   },
   {
    "duration": 8,
    "start_time": "2024-12-17T18:51:45.560Z"
   },
   {
    "duration": 524,
    "start_time": "2024-12-17T18:51:45.572Z"
   },
   {
    "duration": 10,
    "start_time": "2024-12-17T18:51:46.098Z"
   },
   {
    "duration": 186,
    "start_time": "2024-12-17T18:51:46.111Z"
   },
   {
    "duration": 162,
    "start_time": "2024-12-17T18:51:46.299Z"
   },
   {
    "duration": 5,
    "start_time": "2024-12-17T18:51:46.463Z"
   },
   {
    "duration": 201,
    "start_time": "2024-12-17T18:51:46.470Z"
   },
   {
    "duration": 4,
    "start_time": "2024-12-17T18:51:46.674Z"
   },
   {
    "duration": 180,
    "start_time": "2024-12-17T18:51:46.680Z"
   },
   {
    "duration": 6,
    "start_time": "2024-12-17T18:51:46.862Z"
   },
   {
    "duration": 204,
    "start_time": "2024-12-17T18:51:46.870Z"
   },
   {
    "duration": 12,
    "start_time": "2024-12-17T18:51:47.075Z"
   },
   {
    "duration": 154,
    "start_time": "2024-12-17T18:51:47.089Z"
   },
   {
    "duration": 217,
    "start_time": "2024-12-17T18:51:47.247Z"
   },
   {
    "duration": 4,
    "start_time": "2024-12-17T18:51:47.465Z"
   },
   {
    "duration": 197,
    "start_time": "2024-12-17T18:51:47.471Z"
   },
   {
    "duration": 699,
    "start_time": "2024-12-17T18:51:47.670Z"
   },
   {
    "duration": 475,
    "start_time": "2024-12-17T18:51:48.371Z"
   },
   {
    "duration": 9,
    "start_time": "2024-12-17T18:51:48.848Z"
   },
   {
    "duration": 264,
    "start_time": "2024-12-17T18:51:48.859Z"
   },
   {
    "duration": 10,
    "start_time": "2024-12-17T18:51:49.125Z"
   },
   {
    "duration": 368,
    "start_time": "2024-12-17T18:51:49.137Z"
   },
   {
    "duration": 151,
    "start_time": "2024-12-17T18:51:49.507Z"
   },
   {
    "duration": 285,
    "start_time": "2024-12-17T18:51:49.660Z"
   },
   {
    "duration": 10,
    "start_time": "2024-12-17T18:51:49.947Z"
   }
  ],
  "kernelspec": {
   "display_name": "Python 3 (ipykernel)",
   "language": "python",
   "name": "python3"
  },
  "language_info": {
   "codemirror_mode": {
    "name": "ipython",
    "version": 3
   },
   "file_extension": ".py",
   "mimetype": "text/x-python",
   "name": "python",
   "nbconvert_exporter": "python",
   "pygments_lexer": "ipython3",
   "version": "3.12.4"
  },
  "toc": {
   "base_numbering": 1,
   "nav_menu": {},
   "number_sections": true,
   "sideBar": true,
   "skip_h1_title": true,
   "title_cell": "Table of Contents",
   "title_sidebar": "Contents",
   "toc_cell": false,
   "toc_position": {},
   "toc_section_display": true,
   "toc_window_display": false
  },
  "vscode": {
   "interpreter": {
    "hash": "01a7be9ec63e704a62cefc5fe7a4756944464ee731be31632bdf42a4cb4688cf"
   }
  }
 },
 "nbformat": 4,
 "nbformat_minor": 5
}
